{
 "cells": [
  {
   "cell_type": "markdown",
   "id": "c353de9a",
   "metadata": {},
   "source": [
    "# Проект: классификация"
   ]
  },
  {
   "cell_type": "code",
   "execution_count": 209,
   "id": "4a6e54dc",
   "metadata": {},
   "outputs": [],
   "source": [
    "import pandas as pd\n",
    "import numpy as np\n",
    "import matplotlib.pyplot as plt\n",
    "import seaborn as sns\n",
    "from  sklearn.ensemble import IsolationForest\n",
    "import warnings\n",
    "warnings.filterwarnings('ignore')\n",
    "from sklearn.preprocessing  import LabelEncoder\n",
    "from sklearn import linear_model \n",
    "from sklearn import tree \n",
    "from sklearn import ensemble \n",
    "from sklearn import metrics \n",
    "from sklearn import preprocessing \n",
    "from sklearn.model_selection import train_test_split \n",
    "from sklearn.feature_selection import SelectKBest, f_classif"
   ]
  },
  {
   "cell_type": "markdown",
   "id": "71559b60",
   "metadata": {},
   "source": [
    "## Часть 1. Знакомство с данными, обработка пропусков и выбросов"
   ]
  },
  {
   "cell_type": "markdown",
   "id": "7c5e31b2",
   "metadata": {},
   "source": [
    "### Задание 1"
   ]
  },
  {
   "cell_type": "code",
   "execution_count": 210,
   "id": "20730cd7",
   "metadata": {},
   "outputs": [
    {
     "data": {
      "text/html": [
       "<div>\n",
       "<style scoped>\n",
       "    .dataframe tbody tr th:only-of-type {\n",
       "        vertical-align: middle;\n",
       "    }\n",
       "\n",
       "    .dataframe tbody tr th {\n",
       "        vertical-align: top;\n",
       "    }\n",
       "\n",
       "    .dataframe thead th {\n",
       "        text-align: right;\n",
       "    }\n",
       "</style>\n",
       "<table border=\"1\" class=\"dataframe\">\n",
       "  <thead>\n",
       "    <tr style=\"text-align: right;\">\n",
       "      <th></th>\n",
       "      <th>age</th>\n",
       "      <th>job</th>\n",
       "      <th>marital</th>\n",
       "      <th>education</th>\n",
       "      <th>default</th>\n",
       "      <th>balance</th>\n",
       "      <th>housing</th>\n",
       "      <th>loan</th>\n",
       "      <th>contact</th>\n",
       "      <th>day</th>\n",
       "      <th>month</th>\n",
       "      <th>duration</th>\n",
       "      <th>campaign</th>\n",
       "      <th>pdays</th>\n",
       "      <th>previous</th>\n",
       "      <th>poutcome</th>\n",
       "      <th>deposit</th>\n",
       "    </tr>\n",
       "  </thead>\n",
       "  <tbody>\n",
       "    <tr>\n",
       "      <th>0</th>\n",
       "      <td>59</td>\n",
       "      <td>admin.</td>\n",
       "      <td>married</td>\n",
       "      <td>secondary</td>\n",
       "      <td>no</td>\n",
       "      <td>2 343,00 $</td>\n",
       "      <td>yes</td>\n",
       "      <td>no</td>\n",
       "      <td>unknown</td>\n",
       "      <td>5</td>\n",
       "      <td>may</td>\n",
       "      <td>1042</td>\n",
       "      <td>1</td>\n",
       "      <td>-1</td>\n",
       "      <td>0</td>\n",
       "      <td>unknown</td>\n",
       "      <td>yes</td>\n",
       "    </tr>\n",
       "    <tr>\n",
       "      <th>1</th>\n",
       "      <td>56</td>\n",
       "      <td>admin.</td>\n",
       "      <td>married</td>\n",
       "      <td>secondary</td>\n",
       "      <td>no</td>\n",
       "      <td>45,00 $</td>\n",
       "      <td>no</td>\n",
       "      <td>no</td>\n",
       "      <td>unknown</td>\n",
       "      <td>5</td>\n",
       "      <td>may</td>\n",
       "      <td>1467</td>\n",
       "      <td>1</td>\n",
       "      <td>-1</td>\n",
       "      <td>0</td>\n",
       "      <td>unknown</td>\n",
       "      <td>yes</td>\n",
       "    </tr>\n",
       "    <tr>\n",
       "      <th>2</th>\n",
       "      <td>41</td>\n",
       "      <td>technician</td>\n",
       "      <td>married</td>\n",
       "      <td>secondary</td>\n",
       "      <td>no</td>\n",
       "      <td>1 270,00 $</td>\n",
       "      <td>yes</td>\n",
       "      <td>no</td>\n",
       "      <td>unknown</td>\n",
       "      <td>5</td>\n",
       "      <td>may</td>\n",
       "      <td>1389</td>\n",
       "      <td>1</td>\n",
       "      <td>-1</td>\n",
       "      <td>0</td>\n",
       "      <td>unknown</td>\n",
       "      <td>yes</td>\n",
       "    </tr>\n",
       "    <tr>\n",
       "      <th>3</th>\n",
       "      <td>55</td>\n",
       "      <td>services</td>\n",
       "      <td>married</td>\n",
       "      <td>secondary</td>\n",
       "      <td>no</td>\n",
       "      <td>2 476,00 $</td>\n",
       "      <td>yes</td>\n",
       "      <td>no</td>\n",
       "      <td>unknown</td>\n",
       "      <td>5</td>\n",
       "      <td>may</td>\n",
       "      <td>579</td>\n",
       "      <td>1</td>\n",
       "      <td>-1</td>\n",
       "      <td>0</td>\n",
       "      <td>unknown</td>\n",
       "      <td>yes</td>\n",
       "    </tr>\n",
       "    <tr>\n",
       "      <th>4</th>\n",
       "      <td>54</td>\n",
       "      <td>admin.</td>\n",
       "      <td>married</td>\n",
       "      <td>tertiary</td>\n",
       "      <td>no</td>\n",
       "      <td>184,00 $</td>\n",
       "      <td>no</td>\n",
       "      <td>no</td>\n",
       "      <td>unknown</td>\n",
       "      <td>5</td>\n",
       "      <td>may</td>\n",
       "      <td>673</td>\n",
       "      <td>2</td>\n",
       "      <td>-1</td>\n",
       "      <td>0</td>\n",
       "      <td>unknown</td>\n",
       "      <td>yes</td>\n",
       "    </tr>\n",
       "  </tbody>\n",
       "</table>\n",
       "</div>"
      ],
      "text/plain": [
       "   age         job  marital  education default       balance housing loan  \\\n",
       "0   59      admin.  married  secondary      no   2 343,00 $      yes   no   \n",
       "1   56      admin.  married  secondary      no      45,00 $       no   no   \n",
       "2   41  technician  married  secondary      no   1 270,00 $      yes   no   \n",
       "3   55    services  married  secondary      no   2 476,00 $      yes   no   \n",
       "4   54      admin.  married   tertiary      no     184,00 $       no   no   \n",
       "\n",
       "   contact  day month  duration  campaign  pdays  previous poutcome deposit  \n",
       "0  unknown    5   may      1042         1     -1         0  unknown     yes  \n",
       "1  unknown    5   may      1467         1     -1         0  unknown     yes  \n",
       "2  unknown    5   may      1389         1     -1         0  unknown     yes  \n",
       "3  unknown    5   may       579         1     -1         0  unknown     yes  \n",
       "4  unknown    5   may       673         2     -1         0  unknown     yes  "
      ]
     },
     "execution_count": 210,
     "metadata": {},
     "output_type": "execute_result"
    }
   ],
   "source": [
    "df = pd.read_csv('data/bank_fin.zip', sep = ';')\n",
    "df.head()"
   ]
  },
  {
   "attachments": {},
   "cell_type": "markdown",
   "id": "e81f4186",
   "metadata": {},
   "source": [
    "Данные о клиентах банка:\n",
    "\n",
    "* `age` (возраст);\n",
    "* `job` (сфера занятости);\n",
    "* `marital` (семейное положение);\n",
    "* `education` (уровень образования);\n",
    "* `default` (имеется ли просроченный кредит);\n",
    "* `housing` (имеется ли кредит на жильё);\n",
    "* `loan` (имеется ли кредит на личные нужды);\n",
    "* `balance` (баланс).\n",
    "\n",
    "Данные, связанные с последним контактом в контексте текущей маркетинговой кампании:\n",
    "\n",
    "* `contact` (тип контакта с клиентом);\n",
    "* `month` (месяц, в котором был последний контакт);\n",
    "* `day` (день, в который был последний контакт);\n",
    "* `duration` (продолжительность контакта в секундах).\n",
    "\n",
    "Прочие признаки:\n",
    "\n",
    "* `campaign` (количество контактов с этим клиентом в течение текущей кампании);\n",
    "* `pdays` (количество пропущенных дней с момента последней маркетинговой кампании до контакта в текущей кампании);\n",
    "* `previous` (количество контактов до текущей кампании)\n",
    "* `poutcome` (результат прошлой маркетинговой кампании).\n",
    "\n",
    "И, разумеется, наша целевая переменная `deposit`, которая определяет, согласится ли клиент открыть депозит в банке. Именно её мы будем пытаться предсказать в данном кейсе."
   ]
  },
  {
   "attachments": {},
   "cell_type": "markdown",
   "id": "eb3e3902",
   "metadata": {},
   "source": [
    "Начнём с того, что оценим, насколько предложенные данные готовы к дальнейшему анализу. В первую очередь давайте выясним, есть ли в данных пропущенные значения (пустые, незаполненные ячейки)."
   ]
  },
  {
   "cell_type": "code",
   "execution_count": 211,
   "id": "ba11dc67",
   "metadata": {},
   "outputs": [
    {
     "data": {
      "text/plain": [
       "age           0\n",
       "job           0\n",
       "marital       0\n",
       "education     0\n",
       "default       0\n",
       "balance      25\n",
       "housing       0\n",
       "loan          0\n",
       "contact       0\n",
       "day           0\n",
       "month         0\n",
       "duration      0\n",
       "campaign      0\n",
       "pdays         0\n",
       "previous      0\n",
       "poutcome      0\n",
       "deposit       0\n",
       "dtype: int64"
      ]
     },
     "execution_count": 211,
     "metadata": {},
     "output_type": "execute_result"
    }
   ],
   "source": [
    "# исследуйте данные на предмет пропусков. Где есть пропущенные значения? Сколько их?\n",
    "# ваш код\n",
    "df.isna().sum()"
   ]
  },
  {
   "cell_type": "markdown",
   "id": "6366f059",
   "metadata": {},
   "source": [
    "### Задание 2"
   ]
  },
  {
   "attachments": {},
   "cell_type": "markdown",
   "id": "aaf46b14",
   "metadata": {},
   "source": [
    "Видим отсутствующие значения в признаке `balance`. \n",
    "Исследуем остальные признаки."
   ]
  },
  {
   "cell_type": "code",
   "execution_count": 212,
   "id": "80075903",
   "metadata": {},
   "outputs": [
    {
     "name": "stdout",
     "output_type": "stream",
     "text": [
      "value counts for age\n",
      "31    496\n",
      "32    477\n",
      "34    466\n",
      "33    464\n",
      "35    461\n",
      "     ... \n",
      "92      2\n",
      "93      2\n",
      "88      2\n",
      "95      1\n",
      "89      1\n",
      "Name: age, Length: 76, dtype: int64\n",
      "\n",
      "value counts for job\n",
      "management       2566\n",
      "blue-collar      1944\n",
      "technician       1823\n",
      "admin.           1334\n",
      "services          923\n",
      "retired           778\n",
      "self-employed     405\n",
      "student           360\n",
      "unemployed        357\n",
      "entrepreneur      328\n",
      "housemaid         274\n",
      "unknown            70\n",
      "Name: job, dtype: int64\n",
      "\n",
      "value counts for marital\n",
      "married     6351\n",
      "single      3518\n",
      "divorced    1293\n",
      "Name: marital, dtype: int64\n",
      "\n",
      "value counts for education\n",
      "secondary    5476\n",
      "tertiary     3689\n",
      "primary      1500\n",
      "unknown       497\n",
      "Name: education, dtype: int64\n",
      "\n",
      "value counts for default\n",
      "no     10994\n",
      "yes      168\n",
      "Name: default, dtype: int64\n",
      "\n",
      "value counts for balance\n",
      "0  $            774\n",
      " 1,00 $          39\n",
      " 3,00 $          34\n",
      " 2,00 $          34\n",
      " 4,00 $          29\n",
      "               ... \n",
      " 1 641,00 $       1\n",
      " 5 517,00 $       1\n",
      " 8 332,00 $       1\n",
      " 4 859,00 $       1\n",
      "-134,00 $         1\n",
      "Name: balance, Length: 3802, dtype: int64\n",
      "\n",
      "value counts for housing\n",
      "no     5881\n",
      "yes    5281\n",
      "Name: housing, dtype: int64\n",
      "\n",
      "value counts for loan\n",
      "no     9702\n",
      "yes    1460\n",
      "Name: loan, dtype: int64\n",
      "\n",
      "value counts for contact\n",
      "cellular     8042\n",
      "unknown      2346\n",
      "telephone     774\n",
      "Name: contact, dtype: int64\n",
      "\n",
      "value counts for day\n",
      "20    570\n",
      "18    548\n",
      "30    478\n",
      "5     477\n",
      "15    466\n",
      "14    463\n",
      "13    453\n",
      "21    452\n",
      "6     447\n",
      "12    445\n",
      "8     419\n",
      "17    411\n",
      "28    410\n",
      "4     402\n",
      "29    388\n",
      "19    384\n",
      "7     382\n",
      "11    373\n",
      "16    369\n",
      "9     364\n",
      "2     334\n",
      "3     306\n",
      "27    284\n",
      "22    269\n",
      "26    252\n",
      "23    245\n",
      "25    224\n",
      "10    163\n",
      "31    140\n",
      "24    122\n",
      "1     122\n",
      "Name: day, dtype: int64\n",
      "\n",
      "value counts for month\n",
      "may    2824\n",
      "aug    1519\n",
      "jul    1514\n",
      "jun    1222\n",
      "nov     943\n",
      "apr     923\n",
      "feb     776\n",
      "oct     392\n",
      "jan     344\n",
      "sep     319\n",
      "mar     276\n",
      "dec     110\n",
      "Name: month, dtype: int64\n",
      "\n",
      "value counts for duration\n",
      "97      39\n",
      "161     38\n",
      "158     37\n",
      "119     37\n",
      "150     37\n",
      "        ..\n",
      "915      1\n",
      "2029     1\n",
      "1499     1\n",
      "1399     1\n",
      "1812     1\n",
      "Name: duration, Length: 1428, dtype: int64\n",
      "\n",
      "value counts for campaign\n",
      "1     4798\n",
      "2     3028\n",
      "3     1321\n",
      "4      771\n",
      "5      378\n",
      "6      265\n",
      "7      139\n",
      "8      128\n",
      "9       72\n",
      "10      52\n",
      "11      40\n",
      "13      30\n",
      "12      29\n",
      "14      15\n",
      "17      14\n",
      "15      13\n",
      "16       9\n",
      "18       8\n",
      "21       8\n",
      "20       5\n",
      "19       5\n",
      "24       5\n",
      "22       4\n",
      "30       4\n",
      "23       3\n",
      "25       3\n",
      "26       3\n",
      "32       2\n",
      "43       2\n",
      "29       2\n",
      "33       1\n",
      "28       1\n",
      "41       1\n",
      "27       1\n",
      "63       1\n",
      "31       1\n",
      "Name: campaign, dtype: int64\n",
      "\n",
      "value counts for pdays\n",
      "-1      8324\n",
      " 92      106\n",
      " 182      89\n",
      " 91       84\n",
      " 181      81\n",
      "        ... \n",
      " 437       1\n",
      " 728       1\n",
      " 518       1\n",
      " 828       1\n",
      " 118       1\n",
      "Name: pdays, Length: 472, dtype: int64\n",
      "\n",
      "value counts for previous\n",
      "0     8324\n",
      "1      887\n",
      "2      693\n",
      "3      435\n",
      "4      244\n",
      "5      165\n",
      "6      117\n",
      "7       77\n",
      "8       60\n",
      "9       34\n",
      "10      30\n",
      "11      23\n",
      "12      16\n",
      "13      11\n",
      "17      11\n",
      "14       6\n",
      "15       5\n",
      "19       4\n",
      "16       2\n",
      "20       2\n",
      "27       2\n",
      "23       2\n",
      "40       1\n",
      "41       1\n",
      "28       1\n",
      "18       1\n",
      "58       1\n",
      "55       1\n",
      "26       1\n",
      "21       1\n",
      "22       1\n",
      "30       1\n",
      "29       1\n",
      "37       1\n",
      "Name: previous, dtype: int64\n",
      "\n",
      "value counts for poutcome\n",
      "unknown    8326\n",
      "failure    1228\n",
      "success    1071\n",
      "other       537\n",
      "Name: poutcome, dtype: int64\n",
      "\n",
      "value counts for deposit\n",
      "no     5873\n",
      "yes    5289\n",
      "Name: deposit, dtype: int64\n",
      "\n"
     ]
    }
   ],
   "source": [
    "# есть ли в признаке job пропущенные значения? Возможно, они обозначены каким-то специальным словом?\n",
    "# ваш код\n",
    "for column in df.columns:\n",
    "    print(f'value counts for {column}')\n",
    "    print(df[column].value_counts())\n",
    "    print()"
   ]
  },
  {
   "cell_type": "code",
   "execution_count": 213,
   "id": "5c06683d",
   "metadata": {},
   "outputs": [
    {
     "name": "stdout",
     "output_type": "stream",
     "text": [
      "<class 'pandas.core.frame.DataFrame'>\n",
      "RangeIndex: 11162 entries, 0 to 11161\n",
      "Data columns (total 17 columns):\n",
      " #   Column     Non-Null Count  Dtype \n",
      "---  ------     --------------  ----- \n",
      " 0   age        11162 non-null  int64 \n",
      " 1   job        11162 non-null  object\n",
      " 2   marital    11162 non-null  object\n",
      " 3   education  11162 non-null  object\n",
      " 4   default    11162 non-null  object\n",
      " 5   balance    11137 non-null  object\n",
      " 6   housing    11162 non-null  object\n",
      " 7   loan       11162 non-null  object\n",
      " 8   contact    11162 non-null  object\n",
      " 9   day        11162 non-null  int64 \n",
      " 10  month      11162 non-null  object\n",
      " 11  duration   11162 non-null  int64 \n",
      " 12  campaign   11162 non-null  int64 \n",
      " 13  pdays      11162 non-null  int64 \n",
      " 14  previous   11162 non-null  int64 \n",
      " 15  poutcome   11162 non-null  object\n",
      " 16  deposit    11162 non-null  object\n",
      "dtypes: int64(6), object(11)\n",
      "memory usage: 1.4+ MB\n"
     ]
    }
   ],
   "source": [
    "df.info()"
   ]
  },
  {
   "attachments": {},
   "cell_type": "markdown",
   "id": "dc979cec",
   "metadata": {},
   "source": [
    "После анализа вариантов значений в наших данных выявили дополнительные отсутствующие значения, которые закодированы словом unknown. Значения были выявлены в следующих признаках:\n",
    "* `job` – 70 шт\n",
    "* `education` – 497 шт\n",
    "* `contact` – 2346 шт\n",
    "* `poutcome` – 8326 шт\n",
    "\n",
    "При этом общее количество признаков равно `11162` шт.\n",
    "\n",
    "Не во всех признаках значение `unknown` следует считать пропуском и как-то обрабатывать. Например, для признака `poutcome` (результат прошлой маркетинговой кампании) большинство значений заполнены `unknown`. Возможно этот клиент не участвовал в предыдущей кампании. Требуется дополнительное исследование."
   ]
  },
  {
   "cell_type": "markdown",
   "id": "8fcf4fcd",
   "metadata": {},
   "source": [
    "### Задание 3"
   ]
  },
  {
   "attachments": {},
   "cell_type": "markdown",
   "id": "22a39745",
   "metadata": {},
   "source": [
    "Обработаем признак `balance`: в данных содержится лишняя запятая и знак доллара. По этой причине этот признак не считывается как число. Обработаем данные этого признака так, чтобы он был преобразован в тип float."
   ]
  },
  {
   "cell_type": "code",
   "execution_count": 214,
   "id": "3a01be5e",
   "metadata": {},
   "outputs": [
    {
     "data": {
      "text/plain": [
       "count    11137.000000\n",
       "mean      1529.129029\n",
       "std       3228.114892\n",
       "min      -6847.000000\n",
       "25%        123.000000\n",
       "50%        550.000000\n",
       "75%       1708.000000\n",
       "max      81204.000000\n",
       "Name: balance, dtype: float64"
      ]
     },
     "execution_count": 214,
     "metadata": {},
     "output_type": "execute_result"
    }
   ],
   "source": [
    "# преобразуйте признак balance таким образом, чтобы он корректно считывался, как вещественное число (float)\n",
    "df['balance'] = df['balance'].map(lambda x: x.strip().replace(' ','').replace('$','').replace(',','.'), na_action='ignore')\n",
    "df['balance'] = df['balance'].astype('float')\n",
    "df['balance'].describe()"
   ]
  },
  {
   "cell_type": "markdown",
   "id": "6de63fd7",
   "metadata": {},
   "source": [
    "### Задание 4"
   ]
  },
  {
   "attachments": {},
   "cell_type": "markdown",
   "id": "e0df8bd0",
   "metadata": {},
   "source": [
    "Итак, значения в признаке balance приобрели нормальный вид, и теперь мы можем обработать пропуски, которые в нём присутствуют. Конечно, пропуски можно было бы просто удалить, но мы поступим по-другому: заменим пропуски на медианное значение по этому признаку."
   ]
  },
  {
   "cell_type": "code",
   "execution_count": 215,
   "id": "6a684a63",
   "metadata": {},
   "outputs": [
    {
     "data": {
      "text/plain": [
       "1526.936"
      ]
     },
     "execution_count": 215,
     "metadata": {},
     "output_type": "execute_result"
    }
   ],
   "source": [
    "# обработайте пропуски в признаки balance , заменив их на медианные значения по данному признаку\n",
    "# ваш код\n",
    "df.fillna(df['balance'].median(), inplace=True)\n",
    "round(df['balance'].mean(), 3)"
   ]
  },
  {
   "cell_type": "markdown",
   "id": "1097ec42",
   "metadata": {},
   "source": [
    "### Задание 5"
   ]
  },
  {
   "attachments": {},
   "cell_type": "markdown",
   "id": "aba568fe",
   "metadata": {},
   "source": [
    "Ранее мы выяснили, что в признаке `job` есть пропущенные значения, которые не отображаются как пропуски в явном виде. Однако нам всё равно важно их обработать. Мы знаем, что для категориальных признаков пропущенные значения заменяются модой по данному признаку.\n",
    "\n",
    "Заменим пропущенные значения в признаках `job` и `education` на модальные. "
   ]
  },
  {
   "cell_type": "code",
   "execution_count": 216,
   "id": "0fa070a6",
   "metadata": {},
   "outputs": [
    {
     "data": {
      "text/plain": [
       "management       2636\n",
       "blue-collar      1944\n",
       "technician       1823\n",
       "admin.           1334\n",
       "services          923\n",
       "retired           778\n",
       "self-employed     405\n",
       "student           360\n",
       "unemployed        357\n",
       "entrepreneur      328\n",
       "housemaid         274\n",
       "Name: job, dtype: int64"
      ]
     },
     "execution_count": 216,
     "metadata": {},
     "output_type": "execute_result"
    }
   ],
   "source": [
    "# обработайте пропуски в категориальных признаках: job и education, заменив их на модальные значения\n",
    "# ваш код\n",
    "df['job'].replace('unknown', df['job'].mode()[0], inplace=True)\n",
    "# проверяем корректное заполнение\n",
    "df['job'].value_counts() \n"
   ]
  },
  {
   "cell_type": "code",
   "execution_count": 217,
   "id": "8c32e5c9",
   "metadata": {},
   "outputs": [
    {
     "data": {
      "text/plain": [
       "secondary    5973\n",
       "tertiary     3689\n",
       "primary      1500\n",
       "Name: education, dtype: int64"
      ]
     },
     "execution_count": 217,
     "metadata": {},
     "output_type": "execute_result"
    }
   ],
   "source": [
    "df['education'].replace('unknown', df['education'].mode()[0], inplace=True)\n",
    "# проверяем корректное заполнение\n",
    "df['education'].value_counts() "
   ]
  },
  {
   "attachments": {},
   "cell_type": "markdown",
   "id": "c14943de",
   "metadata": {},
   "source": [
    "#### Задание 2.5\n",
    "\n",
    "После замены пропусков рассчитайте средний баланс для клиентов с самой популярной работой и самым популярным уровнем образования (т. е. для тех, у кого одновременно самая популярная работа и самое популярное образование). Ответ округлите до трёх знаков после точки-разделителя."
   ]
  },
  {
   "cell_type": "code",
   "execution_count": 218,
   "id": "33b9a2ce",
   "metadata": {},
   "outputs": [
    {
     "data": {
      "text/plain": [
       "1598.883"
      ]
     },
     "execution_count": 218,
     "metadata": {},
     "output_type": "execute_result"
    }
   ],
   "source": [
    "round(df[ (df['job'] == df['job'].mode()[0]) & (df['education'] == df['education'].mode()[0]) ]['balance'].mean(), 3)"
   ]
  },
  {
   "cell_type": "markdown",
   "id": "02af77c6",
   "metadata": {},
   "source": [
    "### Задание 6"
   ]
  },
  {
   "attachments": {},
   "cell_type": "markdown",
   "id": "15042fda",
   "metadata": {},
   "source": [
    "Изучаем признак `balance` на предмет выбросов.\n",
    "В базовом варианте будем использовать метод Тьюки: считаем, что выбросы находятся за пределами отрезка, нижняя граница которого определяется как нижний квартиль, из которого вычли полтора межквартильных размаха, а верхняя граница — как верхний квартиль, к которому прибавили полтора межквартильных размаха."
   ]
  },
  {
   "cell_type": "code",
   "execution_count": 219,
   "id": "3802cdd9",
   "metadata": {},
   "outputs": [
    {
     "name": "stdout",
     "output_type": "stream",
     "text": [
      "-2241.0 4063.0\n"
     ]
    }
   ],
   "source": [
    "# удалите все выбросы для признака balance\n",
    "# ваш код\n",
    "q1, q3 = df['balance'].quantile([.25, .75]) # нижний и верхний квартили\n",
    "iqr = q3 - q1 # межквартильный размах\n",
    "upper_border = q3 + 1.5*iqr\n",
    "lower_border = q1 - 1.5*iqr\n",
    "print(lower_border,upper_border)"
   ]
  },
  {
   "attachments": {},
   "cell_type": "markdown",
   "id": "8777b2d7",
   "metadata": {},
   "source": [
    "Нижнюю и верхнюю границу по методу Тьюки определили, осталось удалить все строки, в которых `balance` выходит за эти границы."
   ]
  },
  {
   "cell_type": "code",
   "execution_count": 220,
   "id": "1b9aff75",
   "metadata": {},
   "outputs": [
    {
     "name": "stdout",
     "output_type": "stream",
     "text": [
      "df shape before delete: (11162, 17)\n",
      "df shape after delete:  (10105, 17)\n"
     ]
    }
   ],
   "source": [
    "print(f'df shape before delete: {df.shape}')\n",
    "balance_outliers_index = df[ (df['balance'] < lower_border) | (df['balance'] > upper_border)].index\n",
    "df.drop(balance_outliers_index, inplace=True)\n",
    "print(f'df shape after delete:  {df.shape}')\n"
   ]
  },
  {
   "cell_type": "markdown",
   "id": "5d22b8cd",
   "metadata": {},
   "source": [
    "## Часть 2:  Разведывательный анализ"
   ]
  },
  {
   "cell_type": "markdown",
   "id": "21e1f083",
   "metadata": {},
   "source": [
    "### Задание 1"
   ]
  },
  {
   "cell_type": "code",
   "execution_count": 221,
   "id": "6d0cd3a8",
   "metadata": {},
   "outputs": [],
   "source": [
    "# изучите соотношение классов в ваших данных на предмет несбалансированности, проиллюстрируйте результат\n",
    "# ваш код"
   ]
  },
  {
   "cell_type": "markdown",
   "id": "426b1d40",
   "metadata": {},
   "source": [
    "### Задания 2 и 3"
   ]
  },
  {
   "cell_type": "code",
   "execution_count": 222,
   "id": "603cdb3c",
   "metadata": {},
   "outputs": [],
   "source": [
    "#рассчитайте описательные статистики для количественных переменных, проинтерпретируйте результат\n",
    "#ваш код"
   ]
  },
  {
   "cell_type": "markdown",
   "id": "821dc39e",
   "metadata": {},
   "source": [
    "### Задания 4 и 5"
   ]
  },
  {
   "cell_type": "code",
   "execution_count": 223,
   "id": "bf45afc9",
   "metadata": {},
   "outputs": [],
   "source": [
    "#рассчитайте описательные статистики для категориальных переменных, проинтерпретируйте результат\n",
    "#ваш код\n",
    "#постройте визуализации, иллюстрирующие результаты"
   ]
  },
  {
   "cell_type": "markdown",
   "id": "472cff5b",
   "metadata": {},
   "source": [
    "### Задание 6"
   ]
  },
  {
   "cell_type": "code",
   "execution_count": 224,
   "id": "2d640ce1",
   "metadata": {},
   "outputs": [],
   "source": [
    "# Узнайте, для какого статуса предыдущей маркетинговой кампании успех в текущей превалирует над количеством неудач.\n",
    "# ваш код"
   ]
  },
  {
   "cell_type": "markdown",
   "id": "9c32e3aa",
   "metadata": {},
   "source": [
    "### Задание 7"
   ]
  },
  {
   "cell_type": "code",
   "execution_count": 225,
   "id": "df437ec3",
   "metadata": {},
   "outputs": [],
   "source": [
    "# узнайте, в каком месяце чаще всего отказывались от предложения открыть депозит\n",
    "# ваш код"
   ]
  },
  {
   "cell_type": "markdown",
   "id": "5f20762f",
   "metadata": {},
   "source": [
    "### Задание 8"
   ]
  },
  {
   "cell_type": "code",
   "execution_count": 226,
   "id": "95d56f1b",
   "metadata": {},
   "outputs": [],
   "source": [
    "# создайте возрастные группы и определите, в каких группах более склонны открывать депозит, чем отказываться от предложения"
   ]
  },
  {
   "cell_type": "markdown",
   "id": "0841c685",
   "metadata": {},
   "source": [
    "### Задания 9 и 10"
   ]
  },
  {
   "cell_type": "code",
   "execution_count": 227,
   "id": "0d84a9e1",
   "metadata": {},
   "outputs": [],
   "source": [
    "# постройте визуализации для открывших и неоткрывших депозит в зависимости от семейного статуса"
   ]
  },
  {
   "cell_type": "code",
   "execution_count": 228,
   "id": "16333967",
   "metadata": {},
   "outputs": [],
   "source": [
    "# постройте визуализации для открывших и неоткрывших депозит в зависимости от образования"
   ]
  },
  {
   "cell_type": "code",
   "execution_count": 229,
   "id": "738224f8",
   "metadata": {},
   "outputs": [],
   "source": [
    "# постройте визуализации для открывших и неоткрывших депозит в зависимости от вида профессиональной занятости"
   ]
  },
  {
   "cell_type": "markdown",
   "id": "a521e204",
   "metadata": {},
   "source": [
    "### Задание 11"
   ]
  },
  {
   "cell_type": "code",
   "execution_count": 230,
   "id": "35ab0413",
   "metadata": {},
   "outputs": [],
   "source": [
    "# постройте сводную таблицу, чтобы определить люди с каким образованием и семейным статусом наиболее многочисленны\n",
    "#(если рассматривать тех, кто открыл депозит)"
   ]
  },
  {
   "cell_type": "markdown",
   "id": "dfd805c0",
   "metadata": {},
   "source": [
    "## Часть 3: преобразование данных"
   ]
  },
  {
   "cell_type": "markdown",
   "id": "e44e715b",
   "metadata": {},
   "source": [
    "### Задание 1"
   ]
  },
  {
   "cell_type": "code",
   "execution_count": 231,
   "id": "1e815773",
   "metadata": {},
   "outputs": [],
   "source": [
    "# преобразуйте уровни образования"
   ]
  },
  {
   "cell_type": "markdown",
   "id": "8c93e73d",
   "metadata": {},
   "source": [
    "### Задания 2 и 3"
   ]
  },
  {
   "cell_type": "code",
   "execution_count": 232,
   "id": "626a5762",
   "metadata": {},
   "outputs": [],
   "source": [
    "# преобразуйте бинарные переменные в представление из нулей и единиц"
   ]
  },
  {
   "cell_type": "markdown",
   "id": "c40dc02a",
   "metadata": {},
   "source": [
    "### Задание 4"
   ]
  },
  {
   "cell_type": "code",
   "execution_count": 233,
   "id": "b996883f",
   "metadata": {},
   "outputs": [],
   "source": [
    "# создайте дамми-переменные"
   ]
  },
  {
   "cell_type": "markdown",
   "id": "9a23e318",
   "metadata": {},
   "source": [
    "### Задания 5 и 6"
   ]
  },
  {
   "cell_type": "code",
   "execution_count": 234,
   "id": "1c884c1a",
   "metadata": {},
   "outputs": [],
   "source": [
    "# постройте корреляционную матрицу и оцените данные на предмет наличия мультиколлинеарности"
   ]
  },
  {
   "cell_type": "markdown",
   "id": "b5b4c1a5",
   "metadata": {},
   "source": [
    "### Задания 7 и 8"
   ]
  },
  {
   "cell_type": "code",
   "execution_count": 235,
   "id": "79f3e432",
   "metadata": {},
   "outputs": [],
   "source": [
    "X = df.drop(['deposit'], axis=1)\n",
    "y = df['deposit']\n",
    " \n",
    "X_train, X_test, y_train, y_test = train_test_split(X, y, stratify=y, random_state = 42, test_size = 0.33)"
   ]
  },
  {
   "cell_type": "code",
   "execution_count": 236,
   "id": "e3a097a4",
   "metadata": {},
   "outputs": [],
   "source": [
    "# рассчитайте необходимые показатели"
   ]
  },
  {
   "cell_type": "markdown",
   "id": "2e381a4f",
   "metadata": {},
   "source": [
    "### Задание 9"
   ]
  },
  {
   "cell_type": "code",
   "execution_count": 237,
   "id": "0f6e03e0",
   "metadata": {},
   "outputs": [],
   "source": [
    "# с помощью SelectKBest отберите 15 наиболее подходящих признаков"
   ]
  },
  {
   "cell_type": "markdown",
   "id": "60132ef3",
   "metadata": {},
   "source": [
    "### Задание 10"
   ]
  },
  {
   "cell_type": "code",
   "execution_count": 238,
   "id": "e91b06f3",
   "metadata": {},
   "outputs": [],
   "source": [
    "# нормализуйте данные с помощью minmaxsxaler"
   ]
  },
  {
   "cell_type": "markdown",
   "id": "0894c632",
   "metadata": {},
   "source": [
    "# Часть 4: Решение задачи классификации: логистическая регрессия и решающие деревья"
   ]
  },
  {
   "cell_type": "markdown",
   "id": "41b8ff06",
   "metadata": {},
   "source": [
    "### Задание 1"
   ]
  },
  {
   "cell_type": "code",
   "execution_count": 239,
   "id": "8acc0166",
   "metadata": {},
   "outputs": [],
   "source": [
    "# обучите логистическую регрессию и рассчитайте метрики качества"
   ]
  },
  {
   "cell_type": "markdown",
   "id": "29b7e0ba",
   "metadata": {},
   "source": [
    "### Задания 2,3,4"
   ]
  },
  {
   "cell_type": "code",
   "execution_count": 240,
   "id": "c91a588b",
   "metadata": {},
   "outputs": [],
   "source": [
    "# обучите решающие деревья, настройте максимальную глубину"
   ]
  },
  {
   "cell_type": "markdown",
   "id": "fe823c18",
   "metadata": {},
   "source": [
    "### Задание 5"
   ]
  },
  {
   "cell_type": "code",
   "execution_count": 241,
   "id": "63574943",
   "metadata": {},
   "outputs": [],
   "source": [
    "# подберите оптимальные параметры с помощью gridsearch"
   ]
  },
  {
   "cell_type": "markdown",
   "id": "ed0fc831",
   "metadata": {},
   "source": [
    "# Часть 5: Решение задачи классификации: ансамбли моделей и построение прогноза"
   ]
  },
  {
   "cell_type": "markdown",
   "id": "f9e36ff2",
   "metadata": {},
   "source": [
    "### Задание 1"
   ]
  },
  {
   "cell_type": "code",
   "execution_count": 242,
   "id": "e708e3fe",
   "metadata": {},
   "outputs": [],
   "source": [
    "# обучите на ваших данных случайный лес"
   ]
  },
  {
   "cell_type": "markdown",
   "id": "71d7b13d",
   "metadata": {},
   "source": [
    "### Задания 2 и 3"
   ]
  },
  {
   "cell_type": "code",
   "execution_count": 243,
   "id": "99f12dfe",
   "metadata": {},
   "outputs": [],
   "source": [
    "# используйте для классификации градиентный бустинг и сравните качество со случайным лесом"
   ]
  },
  {
   "cell_type": "markdown",
   "id": "b08718ae",
   "metadata": {},
   "source": [
    "### Задание 4"
   ]
  },
  {
   "cell_type": "code",
   "execution_count": 244,
   "id": "0bd42fb0",
   "metadata": {},
   "outputs": [],
   "source": [
    "# объедините уже известные вам алгоритмы с помощью стекинга "
   ]
  },
  {
   "cell_type": "markdown",
   "id": "6247a5fb",
   "metadata": {},
   "source": [
    "### Задание 5"
   ]
  },
  {
   "cell_type": "code",
   "execution_count": 245,
   "id": "35de769c",
   "metadata": {},
   "outputs": [],
   "source": [
    "# оцените, какие признаки демонстрируют наибольшую  важность в модели градиентного бустинга"
   ]
  },
  {
   "cell_type": "markdown",
   "id": "96974dda",
   "metadata": {},
   "source": [
    "### Задания 6,7,8"
   ]
  },
  {
   "cell_type": "code",
   "execution_count": 246,
   "id": "c48e29e9",
   "metadata": {},
   "outputs": [],
   "source": [
    "# реализуйте оптимизацию гиперпараметров с помощью Optuna"
   ]
  }
 ],
 "metadata": {
  "kernelspec": {
   "display_name": "Python 3 (ipykernel)",
   "language": "python",
   "name": "python3"
  },
  "language_info": {
   "codemirror_mode": {
    "name": "ipython",
    "version": 3
   },
   "file_extension": ".py",
   "mimetype": "text/x-python",
   "name": "python",
   "nbconvert_exporter": "python",
   "pygments_lexer": "ipython3",
   "version": "3.10.10"
  }
 },
 "nbformat": 4,
 "nbformat_minor": 5
}
