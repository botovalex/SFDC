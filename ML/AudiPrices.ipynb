{
 "cells": [
  {
   "cell_type": "markdown",
   "id": "97da25b3-b3ef-46e6-aaf2-16961f7c1371",
   "metadata": {
    "tags": []
   },
   "source": [
    "# <center> Обучение с учителем. Регрессия\n",
    "## <center> Предсказываем цены на автомобили Audi\n",
    "<img src=https://top-tuning.ru/upload/images/news/101288/Suzuka-Grey-Metallic-Audi-R8-V10-Plus-4.jpg>"
   ]
  },
  {
   "cell_type": "code",
   "execution_count": 12,
   "id": "e5b95486-ee32-4eb5-8e11-a22db4793fc6",
   "metadata": {},
   "outputs": [],
   "source": [
    "#импорт библиотек\n",
    "import numpy as np #для матричных вычислений\n",
    "import pandas as pd #для анализа и предобработки данных\n",
    "import matplotlib.pyplot as plt #для визуализации\n",
    "import seaborn as sns #для визуализации\n",
    "\n",
    "from sklearn import linear_model #линейные модели\n",
    "from sklearn import metrics #метрики\n",
    "from sklearn import preprocessing #предобработка\n",
    "from sklearn.model_selection import train_test_split #сплитование выборки\n",
    "%matplotlib inline\n",
    "plt.style.use('seaborn')"
   ]
  },
  {
   "cell_type": "markdown",
   "id": "124acaa5-f4d7-4679-b831-3999faae35b0",
   "metadata": {},
   "source": [
    "Повторим, как организуется процесс разработки DS-проектов согласно методологии CRISP-DM.\n",
    "\n",
    "Этапы модели CRISP-DM:\n",
    "1. Анализ требований\n",
    "2. Исследование данных\n",
    "3. Подготовка данных\n",
    "4. Моделирование\n",
    "5. Оценка модели\n",
    "6. Внедрение"
   ]
  },
  {
   "cell_type": "markdown",
   "id": "2464811d-e16c-47f9-9203-3e654da3a34f",
   "metadata": {},
   "source": [
    "### Анализ требований"
   ]
  },
  {
   "cell_type": "markdown",
   "id": "7e90fdb7-fd72-45c6-82d7-c95da9166deb",
   "metadata": {},
   "source": [
    "Задание: построить ML-модель, которая предсказывает цену продажи автомобиля марки Audi. Средняя ошибка предсказания модели должна составлять 2 тыс. $"
   ]
  },
  {
   "cell_type": "markdown",
   "id": "b4d1b1a6-9726-4606-99e6-bb8ef444a846",
   "metadata": {
    "tags": []
   },
   "source": [
    "**Знакомство с данными**"
   ]
  },
  {
   "cell_type": "code",
   "execution_count": 13,
   "id": "7eaff962-cd3a-416f-b4f3-5ca4f859d175",
   "metadata": {},
   "outputs": [
    {
     "data": {
      "text/html": [
       "<div>\n",
       "<style scoped>\n",
       "    .dataframe tbody tr th:only-of-type {\n",
       "        vertical-align: middle;\n",
       "    }\n",
       "\n",
       "    .dataframe tbody tr th {\n",
       "        vertical-align: top;\n",
       "    }\n",
       "\n",
       "    .dataframe thead th {\n",
       "        text-align: right;\n",
       "    }\n",
       "</style>\n",
       "<table border=\"1\" class=\"dataframe\">\n",
       "  <thead>\n",
       "    <tr style=\"text-align: right;\">\n",
       "      <th></th>\n",
       "      <th>model</th>\n",
       "      <th>year</th>\n",
       "      <th>price</th>\n",
       "      <th>transmission</th>\n",
       "      <th>mileage</th>\n",
       "      <th>fuelType</th>\n",
       "      <th>tax</th>\n",
       "      <th>mpg</th>\n",
       "      <th>engineSize</th>\n",
       "    </tr>\n",
       "  </thead>\n",
       "  <tbody>\n",
       "    <tr>\n",
       "      <th>0</th>\n",
       "      <td>A1</td>\n",
       "      <td>2017</td>\n",
       "      <td>12500</td>\n",
       "      <td>Manual</td>\n",
       "      <td>15735</td>\n",
       "      <td>Petrol</td>\n",
       "      <td>150</td>\n",
       "      <td>55.4</td>\n",
       "      <td>1.4</td>\n",
       "    </tr>\n",
       "    <tr>\n",
       "      <th>1</th>\n",
       "      <td>A6</td>\n",
       "      <td>2016</td>\n",
       "      <td>16500</td>\n",
       "      <td>Automatic</td>\n",
       "      <td>36203</td>\n",
       "      <td>Diesel</td>\n",
       "      <td>20</td>\n",
       "      <td>64.2</td>\n",
       "      <td>2.0</td>\n",
       "    </tr>\n",
       "    <tr>\n",
       "      <th>2</th>\n",
       "      <td>A1</td>\n",
       "      <td>2016</td>\n",
       "      <td>11000</td>\n",
       "      <td>Manual</td>\n",
       "      <td>29946</td>\n",
       "      <td>Petrol</td>\n",
       "      <td>30</td>\n",
       "      <td>55.4</td>\n",
       "      <td>1.4</td>\n",
       "    </tr>\n",
       "    <tr>\n",
       "      <th>3</th>\n",
       "      <td>A4</td>\n",
       "      <td>2017</td>\n",
       "      <td>16800</td>\n",
       "      <td>Automatic</td>\n",
       "      <td>25952</td>\n",
       "      <td>Diesel</td>\n",
       "      <td>145</td>\n",
       "      <td>67.3</td>\n",
       "      <td>2.0</td>\n",
       "    </tr>\n",
       "    <tr>\n",
       "      <th>4</th>\n",
       "      <td>A3</td>\n",
       "      <td>2019</td>\n",
       "      <td>17300</td>\n",
       "      <td>Manual</td>\n",
       "      <td>1998</td>\n",
       "      <td>Petrol</td>\n",
       "      <td>145</td>\n",
       "      <td>49.6</td>\n",
       "      <td>1.0</td>\n",
       "    </tr>\n",
       "  </tbody>\n",
       "</table>\n",
       "</div>"
      ],
      "text/plain": [
       "  model  year  price transmission  mileage fuelType  tax   mpg  engineSize\n",
       "0    A1  2017  12500       Manual    15735   Petrol  150  55.4         1.4\n",
       "1    A6  2016  16500    Automatic    36203   Diesel   20  64.2         2.0\n",
       "2    A1  2016  11000       Manual    29946   Petrol   30  55.4         1.4\n",
       "3    A4  2017  16800    Automatic    25952   Diesel  145  67.3         2.0\n",
       "4    A3  2019  17300       Manual     1998   Petrol  145  49.6         1.0"
      ]
     },
     "execution_count": 13,
     "metadata": {},
     "output_type": "execute_result"
    }
   ],
   "source": [
    "#читаем выданные данные\n",
    "audi_data = pd.read_csv('data/audi.zip')\n",
    "audi_data.head()"
   ]
  },
  {
   "cell_type": "markdown",
   "id": "9107f13d-1433-4d5b-820c-01e0005c35c2",
   "metadata": {},
   "source": [
    "Каждый автомобиль описывается следующими признаками:\n",
    "1. model - модель автомобиля\n",
    "2. year - год производства\n",
    "3. price - цена (целевой признак)\n",
    "4. transmission - трансмиссия (ручной, автомат, полуавтомат)\n",
    "5. mileage - пробег\n",
    "6. fuelType - тип двигателя (бензиновый, дизельный, гибридный)\n",
    "7. tax - налог\n",
    "9. mpg - расход топлива\n",
    "10. engineSize - размер двигателя"
   ]
  },
  {
   "cell_type": "code",
   "execution_count": 14,
   "id": "5ceb3f39-7c28-49e7-ad7b-2f45c74b90c8",
   "metadata": {},
   "outputs": [
    {
     "data": {
      "text/plain": [
       "(10668, 9)"
      ]
     },
     "execution_count": 14,
     "metadata": {},
     "output_type": "execute_result"
    }
   ],
   "source": [
    "audi_data.shape"
   ]
  },
  {
   "cell_type": "code",
   "execution_count": 15,
   "id": "78650f69-ebef-4cf2-bdb1-9c48ee0983d9",
   "metadata": {},
   "outputs": [
    {
     "name": "stdout",
     "output_type": "stream",
     "text": [
      "<class 'pandas.core.frame.DataFrame'>\n",
      "RangeIndex: 10668 entries, 0 to 10667\n",
      "Data columns (total 9 columns):\n",
      " #   Column        Non-Null Count  Dtype  \n",
      "---  ------        --------------  -----  \n",
      " 0   model         10668 non-null  object \n",
      " 1   year          10668 non-null  int64  \n",
      " 2   price         10668 non-null  int64  \n",
      " 3   transmission  10668 non-null  object \n",
      " 4   mileage       10668 non-null  int64  \n",
      " 5   fuelType      10668 non-null  object \n",
      " 6   tax           10668 non-null  int64  \n",
      " 7   mpg           10668 non-null  float64\n",
      " 8   engineSize    10668 non-null  float64\n",
      "dtypes: float64(2), int64(4), object(3)\n",
      "memory usage: 750.2+ KB\n"
     ]
    }
   ],
   "source": [
    "audi_data.info()"
   ]
  },
  {
   "cell_type": "markdown",
   "id": "60138730-f085-4198-b73a-988382c7c875",
   "metadata": {},
   "source": [
    "## <center> Итерация №1\n",
    "На первой итерации мы должны прийти к выводу - решаема ли задача. Может ли модель получить базовое качество (baseline). Для этого мы проводим небольшое исследование данных, базовую предобработку и строим простую модель, без подбора параметров."
   ]
  },
  {
   "cell_type": "markdown",
   "id": "0e540689-34aa-4542-8c57-ff224b398c22",
   "metadata": {},
   "source": [
    "### Исследование данных"
   ]
  },
  {
   "cell_type": "markdown",
   "id": "c5f9d3b1-9814-4878-b618-1b071847a458",
   "metadata": {},
   "source": [
    "Цель этого шага — понять слабые и сильные стороны предоставленных данных, определить их достаточность, оценить взаимосвязи между признаками и предложить идеи, как их использовать."
   ]
  },
  {
   "cell_type": "markdown",
   "id": "04bbe229-f18a-4398-9e7c-7e3ea4f42492",
   "metadata": {},
   "source": [
    "Выводим описательные статистики для числовых и категориальных признаков"
   ]
  },
  {
   "cell_type": "code",
   "execution_count": 16,
   "id": "e7f22f64-fc4b-4feb-af53-fb33a3dfb720",
   "metadata": {},
   "outputs": [
    {
     "data": {
      "text/html": [
       "<div>\n",
       "<style scoped>\n",
       "    .dataframe tbody tr th:only-of-type {\n",
       "        vertical-align: middle;\n",
       "    }\n",
       "\n",
       "    .dataframe tbody tr th {\n",
       "        vertical-align: top;\n",
       "    }\n",
       "\n",
       "    .dataframe thead th {\n",
       "        text-align: right;\n",
       "    }\n",
       "</style>\n",
       "<table border=\"1\" class=\"dataframe\">\n",
       "  <thead>\n",
       "    <tr style=\"text-align: right;\">\n",
       "      <th></th>\n",
       "      <th>year</th>\n",
       "      <th>price</th>\n",
       "      <th>mileage</th>\n",
       "      <th>tax</th>\n",
       "      <th>mpg</th>\n",
       "      <th>engineSize</th>\n",
       "    </tr>\n",
       "  </thead>\n",
       "  <tbody>\n",
       "    <tr>\n",
       "      <th>count</th>\n",
       "      <td>10668.000000</td>\n",
       "      <td>10668.000000</td>\n",
       "      <td>10668.000000</td>\n",
       "      <td>10668.000000</td>\n",
       "      <td>10668.000000</td>\n",
       "      <td>10668.000000</td>\n",
       "    </tr>\n",
       "    <tr>\n",
       "      <th>mean</th>\n",
       "      <td>2017.100675</td>\n",
       "      <td>22896.685039</td>\n",
       "      <td>24827.244001</td>\n",
       "      <td>126.011436</td>\n",
       "      <td>50.770022</td>\n",
       "      <td>1.930709</td>\n",
       "    </tr>\n",
       "    <tr>\n",
       "      <th>std</th>\n",
       "      <td>2.167494</td>\n",
       "      <td>11714.841888</td>\n",
       "      <td>23505.257205</td>\n",
       "      <td>67.170294</td>\n",
       "      <td>12.949782</td>\n",
       "      <td>0.602957</td>\n",
       "    </tr>\n",
       "    <tr>\n",
       "      <th>min</th>\n",
       "      <td>1997.000000</td>\n",
       "      <td>1490.000000</td>\n",
       "      <td>1.000000</td>\n",
       "      <td>0.000000</td>\n",
       "      <td>18.900000</td>\n",
       "      <td>0.000000</td>\n",
       "    </tr>\n",
       "    <tr>\n",
       "      <th>25%</th>\n",
       "      <td>2016.000000</td>\n",
       "      <td>15130.750000</td>\n",
       "      <td>5968.750000</td>\n",
       "      <td>125.000000</td>\n",
       "      <td>40.900000</td>\n",
       "      <td>1.500000</td>\n",
       "    </tr>\n",
       "    <tr>\n",
       "      <th>50%</th>\n",
       "      <td>2017.000000</td>\n",
       "      <td>20200.000000</td>\n",
       "      <td>19000.000000</td>\n",
       "      <td>145.000000</td>\n",
       "      <td>49.600000</td>\n",
       "      <td>2.000000</td>\n",
       "    </tr>\n",
       "    <tr>\n",
       "      <th>75%</th>\n",
       "      <td>2019.000000</td>\n",
       "      <td>27990.000000</td>\n",
       "      <td>36464.500000</td>\n",
       "      <td>145.000000</td>\n",
       "      <td>58.900000</td>\n",
       "      <td>2.000000</td>\n",
       "    </tr>\n",
       "    <tr>\n",
       "      <th>max</th>\n",
       "      <td>2020.000000</td>\n",
       "      <td>145000.000000</td>\n",
       "      <td>323000.000000</td>\n",
       "      <td>580.000000</td>\n",
       "      <td>188.300000</td>\n",
       "      <td>6.300000</td>\n",
       "    </tr>\n",
       "  </tbody>\n",
       "</table>\n",
       "</div>"
      ],
      "text/plain": [
       "               year          price        mileage           tax           mpg  \\\n",
       "count  10668.000000   10668.000000   10668.000000  10668.000000  10668.000000   \n",
       "mean    2017.100675   22896.685039   24827.244001    126.011436     50.770022   \n",
       "std        2.167494   11714.841888   23505.257205     67.170294     12.949782   \n",
       "min     1997.000000    1490.000000       1.000000      0.000000     18.900000   \n",
       "25%     2016.000000   15130.750000    5968.750000    125.000000     40.900000   \n",
       "50%     2017.000000   20200.000000   19000.000000    145.000000     49.600000   \n",
       "75%     2019.000000   27990.000000   36464.500000    145.000000     58.900000   \n",
       "max     2020.000000  145000.000000  323000.000000    580.000000    188.300000   \n",
       "\n",
       "         engineSize  \n",
       "count  10668.000000  \n",
       "mean       1.930709  \n",
       "std        0.602957  \n",
       "min        0.000000  \n",
       "25%        1.500000  \n",
       "50%        2.000000  \n",
       "75%        2.000000  \n",
       "max        6.300000  "
      ]
     },
     "execution_count": 16,
     "metadata": {},
     "output_type": "execute_result"
    }
   ],
   "source": [
    "audi_data.describe()"
   ]
  },
  {
   "cell_type": "code",
   "execution_count": 17,
   "id": "bbc39afb-89ce-4962-a7dc-5881aa51cc2d",
   "metadata": {},
   "outputs": [
    {
     "data": {
      "text/html": [
       "<div>\n",
       "<style scoped>\n",
       "    .dataframe tbody tr th:only-of-type {\n",
       "        vertical-align: middle;\n",
       "    }\n",
       "\n",
       "    .dataframe tbody tr th {\n",
       "        vertical-align: top;\n",
       "    }\n",
       "\n",
       "    .dataframe thead th {\n",
       "        text-align: right;\n",
       "    }\n",
       "</style>\n",
       "<table border=\"1\" class=\"dataframe\">\n",
       "  <thead>\n",
       "    <tr style=\"text-align: right;\">\n",
       "      <th></th>\n",
       "      <th>model</th>\n",
       "      <th>transmission</th>\n",
       "      <th>fuelType</th>\n",
       "    </tr>\n",
       "  </thead>\n",
       "  <tbody>\n",
       "    <tr>\n",
       "      <th>count</th>\n",
       "      <td>10668</td>\n",
       "      <td>10668</td>\n",
       "      <td>10668</td>\n",
       "    </tr>\n",
       "    <tr>\n",
       "      <th>unique</th>\n",
       "      <td>26</td>\n",
       "      <td>3</td>\n",
       "      <td>3</td>\n",
       "    </tr>\n",
       "    <tr>\n",
       "      <th>top</th>\n",
       "      <td>A3</td>\n",
       "      <td>Manual</td>\n",
       "      <td>Diesel</td>\n",
       "    </tr>\n",
       "    <tr>\n",
       "      <th>freq</th>\n",
       "      <td>1929</td>\n",
       "      <td>4369</td>\n",
       "      <td>5577</td>\n",
       "    </tr>\n",
       "  </tbody>\n",
       "</table>\n",
       "</div>"
      ],
      "text/plain": [
       "        model transmission fuelType\n",
       "count   10668        10668    10668\n",
       "unique     26            3        3\n",
       "top        A3       Manual   Diesel\n",
       "freq     1929         4369     5577"
      ]
     },
     "execution_count": 17,
     "metadata": {},
     "output_type": "execute_result"
    }
   ],
   "source": [
    "audi_data.describe(include='object')"
   ]
  },
  {
   "cell_type": "code",
   "execution_count": 18,
   "id": "2a9abc92-efc8-4a62-b545-d78c390cdab8",
   "metadata": {},
   "outputs": [],
   "source": [
    "#Создаем копию данных для облегчения работы с изменениями в таблице\n",
    "temp_data = audi_data.copy()"
   ]
  },
  {
   "cell_type": "markdown",
   "id": "8683826b-0a8c-44be-bf38-1ec0da07be4b",
   "metadata": {},
   "source": [
    "Проведем небольшое исследование зависимости целевого признака price от числовых признаков."
   ]
  },
  {
   "cell_type": "code",
   "execution_count": 19,
   "id": "8db47d82-14a7-41e1-a1a3-3b6b212e49a7",
   "metadata": {},
   "outputs": [
    {
     "data": {
      "text/plain": [
       "['year', 'price', 'mileage', 'tax', 'mpg', 'engineSize']"
      ]
     },
     "execution_count": 19,
     "metadata": {},
     "output_type": "execute_result"
    }
   ],
   "source": [
    "#выделяем имена числовых признаков в виде списка для удобства дальнейшей работы\n",
    "types = temp_data.dtypes\n",
    "num_features = list(types[(types != 'object')].index)\n",
    "num_features"
   ]
  },
  {
   "cell_type": "markdown",
   "id": "e7f12d8e-aadd-4d21-aac7-e0a6f91726c5",
   "metadata": {},
   "source": [
    "Для каждого числового признака построим гистограмму признаки и диаграмму рассеяния, иллюстрирующую зависимость целевого признака от каждого из факторов. Дополнительно поверх диаграммы рассеяния построим уравнение линейной регрессии. "
   ]
  },
  {
   "cell_type": "code",
   "execution_count": 20,
   "id": "455bc85e-8c9c-4244-a229-dd44c40c7957",
   "metadata": {
    "tags": []
   },
   "outputs": [
    {
     "data": {
      "image/png": "[encoded data removed]",
      "text/plain": [
       "<Figure size 1080x1440 with 12 Axes>"
      ]
     },
     "metadata": {},
     "output_type": "display_data"
    }
   ],
   "source": [
    "n = len(num_features) #количество числовых признаков\n",
    "fig, axes = plt.subplots(n, 2, figsize=(15, 20)) # фигура + n х 2 координатных плоскостей\n",
    "#Создаем цикл для всех признаков из списка числовых признаков\n",
    "for i, feature in enumerate(num_features): #i- индекс, feature - название признака в таблице\n",
    "    #Строим гистограмму распределения признака \n",
    "    histplot = sns.histplot(data=temp_data, x=feature, ax=axes[i][0])\n",
    "    #Добавляем подпись графику\n",
    "    histplot.set_title('{} hist'.format(feature))\n",
    "    #Добавляем поворот отметок на оси абсцисс\n",
    "    histplot.xaxis.set_tick_params(rotation=45)\n",
    "    #Строим диаграмму рассеяния + линейную регрессию\n",
    "    regplot = sns.regplot(data=temp_data, x=feature, y='price', ax=axes[i][1])\n",
    "    #Добавляем подпись графику\n",
    "    regplot.set_title('{} VS price'.format(feature));\n",
    "    #Добавляем поворот отметок на оси абсцисс\n",
    "    regplot.xaxis.set_tick_params(rotation=45)\n",
    "plt.tight_layout() #выравнивание графиков"
   ]
  },
  {
   "cell_type": "markdown",
   "id": "89fb515b-9dfe-4e42-93b8-fb8a55457cce",
   "metadata": {},
   "source": [
    "Строим тепловую карту для корреляционной матрицы, чтобы оценить мультиколлинеарную зависимость и линейную взаимосвязь между факторами и целевым признаком (price)"
   ]
  },
  {
   "cell_type": "code",
   "execution_count": 21,
   "id": "839b3822-9395-4841-b0ad-dbf4e992786e",
   "metadata": {},
   "outputs": [
    {
     "data": {
      "image/png": "[encoded data removed]",
      "text/plain": [
       "<Figure size 864x360 with 2 Axes>"
      ]
     },
     "metadata": {},
     "output_type": "display_data"
    }
   ],
   "source": [
    "#строим тепловую карту корреляций\n",
    "fig = plt.figure(figsize=(12, 5))\n",
    "sns.heatmap(temp_data.corr(), annot=True);"
   ]
  },
  {
   "cell_type": "markdown",
   "id": "0b30bf9f-103c-4b6e-8f9c-d7ec4b22841d",
   "metadata": {},
   "source": [
    "### Подготовка данных"
   ]
  },
  {
   "cell_type": "markdown",
   "id": "f16285d9-9f55-4f01-95af-5122f45a9def",
   "metadata": {},
   "source": [
    "Цель этого этапа — подготовить обучающую выборку для использования в моделировании."
   ]
  },
  {
   "cell_type": "markdown",
   "id": "d8c0d112-a9a0-49dc-af33-08c0d4d2088b",
   "metadata": {},
   "source": [
    "Линейная регрессия, которую мы будем использовать, является моделью, которая требует численного представления данных. То есть на этапе подготовки данных мы должны позаботиться о кодировании текстовых категориальных признаков. \n",
    "\n",
    "К тому же, если в ваших данных присутствуют пропуски данных, то необходимо обратать и их, так как пропуски в данных вызовут ошибку при подаче данных в модель."
   ]
  },
  {
   "cell_type": "markdown",
   "id": "5c794348-e2bd-4a29-baed-53c5884bd409",
   "metadata": {},
   "source": [
    "Произведем One Hot-кодирование категориальных признаков с помощью функции pandas - get_dummies(). "
   ]
  },
  {
   "cell_type": "code",
   "execution_count": 22,
   "id": "5372a2e7-731e-4aa5-aa96-d42a24bef557",
   "metadata": {},
   "outputs": [
    {
     "data": {
      "text/html": [
       "<div>\n",
       "<style scoped>\n",
       "    .dataframe tbody tr th:only-of-type {\n",
       "        vertical-align: middle;\n",
       "    }\n",
       "\n",
       "    .dataframe tbody tr th {\n",
       "        vertical-align: top;\n",
       "    }\n",
       "\n",
       "    .dataframe thead th {\n",
       "        text-align: right;\n",
       "    }\n",
       "</style>\n",
       "<table border=\"1\" class=\"dataframe\">\n",
       "  <thead>\n",
       "    <tr style=\"text-align: right;\">\n",
       "      <th></th>\n",
       "      <th>year</th>\n",
       "      <th>price</th>\n",
       "      <th>mileage</th>\n",
       "      <th>tax</th>\n",
       "      <th>mpg</th>\n",
       "      <th>engineSize</th>\n",
       "      <th>model_ A1</th>\n",
       "      <th>model_ A2</th>\n",
       "      <th>model_ A3</th>\n",
       "      <th>model_ A4</th>\n",
       "      <th>...</th>\n",
       "      <th>model_ S8</th>\n",
       "      <th>model_ SQ5</th>\n",
       "      <th>model_ SQ7</th>\n",
       "      <th>model_ TT</th>\n",
       "      <th>transmission_Automatic</th>\n",
       "      <th>transmission_Manual</th>\n",
       "      <th>transmission_Semi-Auto</th>\n",
       "      <th>fuelType_Diesel</th>\n",
       "      <th>fuelType_Hybrid</th>\n",
       "      <th>fuelType_Petrol</th>\n",
       "    </tr>\n",
       "  </thead>\n",
       "  <tbody>\n",
       "    <tr>\n",
       "      <th>0</th>\n",
       "      <td>2017</td>\n",
       "      <td>12500</td>\n",
       "      <td>15735</td>\n",
       "      <td>150</td>\n",
       "      <td>55.4</td>\n",
       "      <td>1.4</td>\n",
       "      <td>1</td>\n",
       "      <td>0</td>\n",
       "      <td>0</td>\n",
       "      <td>0</td>\n",
       "      <td>...</td>\n",
       "      <td>0</td>\n",
       "      <td>0</td>\n",
       "      <td>0</td>\n",
       "      <td>0</td>\n",
       "      <td>0</td>\n",
       "      <td>1</td>\n",
       "      <td>0</td>\n",
       "      <td>0</td>\n",
       "      <td>0</td>\n",
       "      <td>1</td>\n",
       "    </tr>\n",
       "    <tr>\n",
       "      <th>1</th>\n",
       "      <td>2016</td>\n",
       "      <td>16500</td>\n",
       "      <td>36203</td>\n",
       "      <td>20</td>\n",
       "      <td>64.2</td>\n",
       "      <td>2.0</td>\n",
       "      <td>0</td>\n",
       "      <td>0</td>\n",
       "      <td>0</td>\n",
       "      <td>0</td>\n",
       "      <td>...</td>\n",
       "      <td>0</td>\n",
       "      <td>0</td>\n",
       "      <td>0</td>\n",
       "      <td>0</td>\n",
       "      <td>1</td>\n",
       "      <td>0</td>\n",
       "      <td>0</td>\n",
       "      <td>1</td>\n",
       "      <td>0</td>\n",
       "      <td>0</td>\n",
       "    </tr>\n",
       "    <tr>\n",
       "      <th>2</th>\n",
       "      <td>2016</td>\n",
       "      <td>11000</td>\n",
       "      <td>29946</td>\n",
       "      <td>30</td>\n",
       "      <td>55.4</td>\n",
       "      <td>1.4</td>\n",
       "      <td>1</td>\n",
       "      <td>0</td>\n",
       "      <td>0</td>\n",
       "      <td>0</td>\n",
       "      <td>...</td>\n",
       "      <td>0</td>\n",
       "      <td>0</td>\n",
       "      <td>0</td>\n",
       "      <td>0</td>\n",
       "      <td>0</td>\n",
       "      <td>1</td>\n",
       "      <td>0</td>\n",
       "      <td>0</td>\n",
       "      <td>0</td>\n",
       "      <td>1</td>\n",
       "    </tr>\n",
       "    <tr>\n",
       "      <th>3</th>\n",
       "      <td>2017</td>\n",
       "      <td>16800</td>\n",
       "      <td>25952</td>\n",
       "      <td>145</td>\n",
       "      <td>67.3</td>\n",
       "      <td>2.0</td>\n",
       "      <td>0</td>\n",
       "      <td>0</td>\n",
       "      <td>0</td>\n",
       "      <td>1</td>\n",
       "      <td>...</td>\n",
       "      <td>0</td>\n",
       "      <td>0</td>\n",
       "      <td>0</td>\n",
       "      <td>0</td>\n",
       "      <td>1</td>\n",
       "      <td>0</td>\n",
       "      <td>0</td>\n",
       "      <td>1</td>\n",
       "      <td>0</td>\n",
       "      <td>0</td>\n",
       "    </tr>\n",
       "    <tr>\n",
       "      <th>4</th>\n",
       "      <td>2019</td>\n",
       "      <td>17300</td>\n",
       "      <td>1998</td>\n",
       "      <td>145</td>\n",
       "      <td>49.6</td>\n",
       "      <td>1.0</td>\n",
       "      <td>0</td>\n",
       "      <td>0</td>\n",
       "      <td>1</td>\n",
       "      <td>0</td>\n",
       "      <td>...</td>\n",
       "      <td>0</td>\n",
       "      <td>0</td>\n",
       "      <td>0</td>\n",
       "      <td>0</td>\n",
       "      <td>0</td>\n",
       "      <td>1</td>\n",
       "      <td>0</td>\n",
       "      <td>0</td>\n",
       "      <td>0</td>\n",
       "      <td>1</td>\n",
       "    </tr>\n",
       "  </tbody>\n",
       "</table>\n",
       "<p>5 rows × 38 columns</p>\n",
       "</div>"
      ],
      "text/plain": [
       "   year  price  mileage  tax   mpg  engineSize  model_ A1  model_ A2  \\\n",
       "0  2017  12500    15735  150  55.4         1.4          1          0   \n",
       "1  2016  16500    36203   20  64.2         2.0          0          0   \n",
       "2  2016  11000    29946   30  55.4         1.4          1          0   \n",
       "3  2017  16800    25952  145  67.3         2.0          0          0   \n",
       "4  2019  17300     1998  145  49.6         1.0          0          0   \n",
       "\n",
       "   model_ A3  model_ A4  ...  model_ S8  model_ SQ5  model_ SQ7  model_ TT  \\\n",
       "0          0          0  ...          0           0           0          0   \n",
       "1          0          0  ...          0           0           0          0   \n",
       "2          0          0  ...          0           0           0          0   \n",
       "3          0          1  ...          0           0           0          0   \n",
       "4          1          0  ...          0           0           0          0   \n",
       "\n",
       "   transmission_Automatic  transmission_Manual  transmission_Semi-Auto  \\\n",
       "0                       0                    1                       0   \n",
       "1                       1                    0                       0   \n",
       "2                       0                    1                       0   \n",
       "3                       1                    0                       0   \n",
       "4                       0                    1                       0   \n",
       "\n",
       "   fuelType_Diesel  fuelType_Hybrid  fuelType_Petrol  \n",
       "0                0                0                1  \n",
       "1                1                0                0  \n",
       "2                0                0                1  \n",
       "3                1                0                0  \n",
       "4                0                0                1  \n",
       "\n",
       "[5 rows x 38 columns]"
      ]
     },
     "execution_count": 22,
     "metadata": {},
     "output_type": "execute_result"
    }
   ],
   "source": [
    "#Производим кодирование категориальных признаков\n",
    "dummies_data = pd.get_dummies(temp_data)\n",
    "dummies_data.head()"
   ]
  },
  {
   "cell_type": "markdown",
   "id": "02a2aec4-c685-4137-b012-e0ae833838a2",
   "metadata": {},
   "source": [
    "Аналог: знакомый нам OneHotEncoder из библиотеки category_encoders "
   ]
  },
  {
   "cell_type": "code",
   "execution_count": 23,
   "id": "20c52862-87c6-4bff-b3cc-8615d42961bc",
   "metadata": {},
   "outputs": [],
   "source": [
    "# import category_encoders as ce # импорт для работы с кодировщиком\n",
    "\n",
    "# encoder = ce.OneHotEncoder(cols=['model', 'transmission', 'fuelType']) # указываем столбец для кодирования\n",
    "# encoding_data = encoder.fit_transform(temp_data[['model', 'transmission', 'fuelType']])\n",
    "# dummies_data = pd.concat([temp_data.drop(['model', 'transmission', 'fuelType'], axis=1), encoding_data], axis=1)\n",
    "# dummies_data.head()"
   ]
  },
  {
   "cell_type": "markdown",
   "id": "cb10b5f7-94fc-4910-80a2-587c68fbb302",
   "metadata": {},
   "source": [
    "Разделим набор данных на матрицу наблюдений X (таблица из объектов и их признаков) и столбец правильных ответов y"
   ]
  },
  {
   "cell_type": "code",
   "execution_count": 24,
   "id": "7d313d58-addd-430e-af1b-86d3d9f2f3da",
   "metadata": {},
   "outputs": [],
   "source": [
    "#X - матрица наблюдений, y - столбец правильных ответов\n",
    "X = dummies_data.drop('price', axis=1)\n",
    "y = dummies_data['price']"
   ]
  },
  {
   "cell_type": "markdown",
   "id": "4ad14c16-fbd0-4e4e-8fab-dfdd5ae92ed4",
   "metadata": {},
   "source": [
    "Разделяем всю выборку на тренировочную и тестовую в соотношении 80/20.\n",
    "\n",
    "На тренировочной выборке будем обучать модели, а на тестовой проверять их качество. "
   ]
  },
  {
   "cell_type": "code",
   "execution_count": 25,
   "id": "3b290ef3-e328-4727-adaf-e1912e1ecfa4",
   "metadata": {},
   "outputs": [
    {
     "name": "stdout",
     "output_type": "stream",
     "text": [
      "Train shape: (8534, 37)\n",
      "Test shape: (2134, 37)\n"
     ]
    }
   ],
   "source": [
    "#Создаем тренировочную и тестовую выборки с помощью train_test_split\n",
    "X_train, X_test, y_train, y_test = train_test_split(\n",
    "    X, y, #таблица с наблюдениями и столбец с правильным ответами\n",
    "    test_size=0.2, #размер тестовой выборки\n",
    "    random_state=40 #число отвечающее за генерацию случайных чисел\n",
    ")\n",
    "#Выводим размеры полученных выборок\n",
    "print('Train shape: {}'.format(X_train.shape))\n",
    "print('Test shape: {}'.format(X_test.shape))"
   ]
  },
  {
   "cell_type": "markdown",
   "id": "5d849a17-da63-4837-825d-fb86f1531012",
   "metadata": {},
   "source": [
    "### Моделирование + Оценка модели"
   ]
  },
  {
   "cell_type": "markdown",
   "id": "1323b87d-b660-4118-ab1b-1aa89849af1f",
   "metadata": {},
   "source": [
    "Цель этапа - построить модель, решающую поставленную задачу и оценить ее качество"
   ]
  },
  {
   "cell_type": "markdown",
   "id": "78628dbc-d7e0-40ee-a812-c24e03f11eb4",
   "metadata": {},
   "source": [
    "Заранее создадим функцию, которая будет расчитывать метрики:\n",
    "\n",
    "1. MAE - средняя абсолютная ошибка (целевая метрика)\n",
    "2. MAPE - средняя абсолютная ошибка в процентах \n",
    "3. $R^2$ - коэффициент детерминации "
   ]
  },
  {
   "cell_type": "code",
   "execution_count": 26,
   "id": "8968a221-f4a7-4d50-b6ae-dc1b680aef75",
   "metadata": {},
   "outputs": [],
   "source": [
    "def print_metrics(y_train, y_train_predict, y_test, y_test_predict):\n",
    "    print('Train R^2: {:.3f}'.format(metrics.r2_score(y_train, y_train_predict)))\n",
    "    print('Train MAE: {:.3f}'.format(metrics.mean_absolute_error(y_train, y_train_predict)))\n",
    "    print('Train MAPE: {:.3f}'.format(metrics.mean_absolute_percentage_error(y_train, y_train_predict)*100))\n",
    "    print('\\n')\n",
    "    print('Test R^2: {:.3f}'.format(metrics.r2_score(y_test, y_test_predict)))\n",
    "    print('Test MAE: {:.3f}'.format(metrics.mean_absolute_error(y_test, y_test_predict)))\n",
    "    print('Train MAPE: {:.3f}'.format(metrics.mean_absolute_percentage_error(y_test, y_test_predict)*100))"
   ]
  },
  {
   "cell_type": "markdown",
   "id": "8a7a7fce-2cb0-4acb-98b3-15b0630b0064",
   "metadata": {},
   "source": [
    "**Модель линейной регрессии:**\n",
    "\n",
    "Модель линейной регрессии имеет следующий вид:\n",
    "$$\\widehat{y_i}= w_0+\\sum_{j=0}^m w_j x_{ij}$$\n",
    "где $x_{ij}$ — объект из $i$-ой строки и $j$-ого столбца из таблицы объектов-признак $X$, $y_i$ — правильный ответ, соответствующий $x_{i}$, $\\omega$ — параметры линейной регрессии"
   ]
  },
  {
   "cell_type": "markdown",
   "id": "29f312e7-138f-4660-86cb-002bcf266d12",
   "metadata": {},
   "source": [
    "Для поиска параметров модели используется схема минизации эмпиричного риска - ищутся такие параметры $\\omega$, при которых функция ошибки $L(\\omega)$ была бы минимальна. \n",
    "\n",
    "В качестве функции потерь используем MSE - средний квадрат ошибки."
   ]
  },
  {
   "cell_type": "markdown",
   "id": "f787d738-5c9a-4af7-bcc8-690659a289d5",
   "metadata": {},
   "source": [
    "$$L(\\omega) = MSE = \\frac{1}{n} * \\sum_{i=1}^{n}{(y_i - \\widehat{y_i})^2} \\Rightarrow min_\\omega $$"
   ]
  },
  {
   "cell_type": "markdown",
   "id": "6d6d1a88-1dd0-4622-ad9f-98fc35eb9909",
   "metadata": {},
   "source": [
    "**Аналитическое решение: метод наименьших квадратов (OLS):**"
   ]
  },
  {
   "cell_type": "markdown",
   "id": "760fa29f-257b-4599-b5aa-45bfbf4fea6e",
   "metadata": {},
   "source": [
    "$$\\omega=(X^TX)^{-1}X^Ty$$"
   ]
  },
  {
   "cell_type": "markdown",
   "id": "7ae82ba9-965b-49d7-8789-14a66aa0de74",
   "metadata": {},
   "source": [
    "В библиотеке sklearn линейная регрессия с поиском параметров по OLS реализована в классе LinearRegression модуля linear_model. \n",
    "\n",
    "Методы:\n",
    "* fit() - подгонка параметров по OLS (обучение модели)\n",
    "* predict() - предсказание (подстановка наблюдения $x_i$ в модель и получение ответа для каждого наблюдения)\n",
    "\n",
    "Атрибуты:\n",
    "* coef_ - найденные с помощью OLS коэффициенты $\\omega_1, \\omega_2,$ ...,$ \\omega_m$ (в виде вектора)\n",
    "* intercept_ - свободный член $\\omega_0$"
   ]
  },
  {
   "cell_type": "code",
   "execution_count": 27,
   "id": "5bdbecce-25dd-4af3-a372-694c3f6c1b10",
   "metadata": {},
   "outputs": [
    {
     "name": "stdout",
     "output_type": "stream",
     "text": [
      "Train R^2: 0.893\n",
      "Train MAE: 2550.204\n",
      "Train MAPE: 13.383\n",
      "\n",
      "\n",
      "Test R^2: 0.887\n",
      "Test MAE: 2613.726\n",
      "Train MAPE: 12.876\n"
     ]
    }
   ],
   "source": [
    "#Инициализируем объект класса линейная регрессия\n",
    "lr = linear_model.LinearRegression()\n",
    "#Обучаем модель - ищем параметры\n",
    "lr.fit(X_train, y_train)\n",
    "#Делаем предсказание для каждой из выборок\n",
    "y_train_pred = lr.predict(X_train)\n",
    "y_test_pred = lr.predict(X_test)\n",
    "#Выводим результирующие метрики\n",
    "print_metrics(y_train, y_train_pred, y_test, y_test_pred)"
   ]
  },
  {
   "cell_type": "markdown",
   "id": "f9890750-a948-4743-8ffe-af84182bbd0f",
   "metadata": {},
   "source": [
    "**Численное решение: метод стохастического градиентного спуска (SGD):**"
   ]
  },
  {
   "cell_type": "markdown",
   "id": "fa2a02e5-be09-4b74-bd99-2dde40030d52",
   "metadata": {},
   "source": [
    "$$\\omega^{(k+1)} = \\omega^{(k)} - \\eta\\nabla L(\\omega^{(k)})$$"
   ]
  },
  {
   "cell_type": "markdown",
   "id": "02dea537-db23-4ea9-bd84-05e7aa5c9180",
   "metadata": {},
   "source": [
    "В библиотеке sklearn линейная регрессия с поиском параметров по SGD реализована в классе SGDRegressor модуля linear_model. \n",
    "\n",
    "Методы:\n",
    "* fit() - подгонка параметров по SGD (обучение модели)\n",
    "* predict() - предсказание (подстановка наблюдения $x_i$ в модель и получение ответа для каждого наблюдения)\n",
    "\n",
    "Атрибуты:\n",
    "* coef_ - полученные с помощью SGD коэффициенты $\\omega_1, \\omega_2,$ ...,$ \\omega_m$ (в виде вектора)\n",
    "* intercept_ - свободный член $\\omega_0$"
   ]
  },
  {
   "cell_type": "code",
   "execution_count": 29,
   "id": "9da0092b-4af1-46cf-9446-ba118f8e8b6f",
   "metadata": {},
   "outputs": [
    {
     "name": "stdout",
     "output_type": "stream",
     "text": [
      "Train R^2: 0.888\n",
      "Train MAE: 2566.030\n",
      "Train MAPE: 13.819\n",
      "\n",
      "\n",
      "Test R^2: 0.884\n",
      "Test MAE: 2601.702\n",
      "Train MAPE: 12.876\n"
     ]
    }
   ],
   "source": [
    "#Создаем объект для min-max нормализации\n",
    "scaler = preprocessing.MinMaxScaler()\n",
    "#Вычисляем параметры для нормализации - min и max для каждого столбца\n",
    "scaler.fit(X_train)\n",
    "#Производим преобразование для каждой из выборок\n",
    "X_train_scaled = scaler.transform(X_train)\n",
    "X_test_scaled = scaler.transform(X_test)\n",
    "\n",
    "#Инициализируем объект класса линейная регрессия\n",
    "sgd_lr = linear_model.SGDRegressor(random_state=42)\n",
    "#Обучаем модель - ищем параметры\n",
    "sgd_lr.fit(X_train_scaled, y_train)\n",
    "#Делаем предсказание для каждой из выборок\n",
    "y_train_pred = sgd_lr.predict(X_train_scaled)\n",
    "y_test_pred = sgd_lr.predict(X_test_scaled)\n",
    "#Выводим результирующие метрики\n",
    "print_metrics(y_train, y_train_pred, y_test, y_test_pred)"
   ]
  },
  {
   "cell_type": "markdown",
   "id": "8f7929e3-8ac4-4e3b-a24c-80a005ab4ae6",
   "metadata": {},
   "source": [
    "Целевое значение метрики MAE в 2 тыс. $ не достигнуто, переходим на следующую итерацию"
   ]
  },
  {
   "cell_type": "markdown",
   "id": "4d22124f-c470-4234-abe6-6ee3a0703238",
   "metadata": {
    "tags": []
   },
   "source": [
    "## Итерация №2"
   ]
  },
  {
   "cell_type": "markdown",
   "id": "3bd09793-fd89-4b42-be19-7ca5949ea521",
   "metadata": {},
   "source": [
    "Предположение - качество модели повысится, если:\n",
    "* Избавиться от выбросов в данных - автомобилей с завышенной (заниженной) ценой, высоким (низким) пробегом и высоким (низким) расходом топливом\n",
    "* Перевести целевой признак из логнормального распределения в нормальное с помощью логарифмирования"
   ]
  },
  {
   "cell_type": "markdown",
   "id": "26b2cca7-2537-4d9b-97f8-311b1118f7fd",
   "metadata": {},
   "source": [
    "### Исследование данных"
   ]
  },
  {
   "cell_type": "markdown",
   "id": "05b14a8c-89f7-44d8-958f-864aee197dff",
   "metadata": {},
   "source": [
    "Произведем исследование логарифмированных распределений на наличие выбросов с помощью метода z-отклонений (3ех сигм)"
   ]
  },
  {
   "cell_type": "code",
   "execution_count": 30,
   "id": "51c6809c-92fc-4e74-a0a1-6c3485ae58c2",
   "metadata": {},
   "outputs": [
    {
     "data": {
      "image/png": "[encoded data removed]",
      "text/plain": [
       "<Figure size 1080x288 with 2 Axes>"
      ]
     },
     "metadata": {},
     "output_type": "display_data"
    }
   ],
   "source": [
    "fig, axes = plt.subplots(1, 2, figsize=(15, 4)) #фигура + координатная плоскость\n",
    "#Строим гистограмму\n",
    "sns.histplot(data=temp_data, x='price', ax=axes[0]);\n",
    "#Логарифмируем\n",
    "log_price = np.log(temp_data['price'])\n",
    "#Строим гистограмму в логарифмическом масштабе\n",
    "sns.histplot(data=log_price, ax=axes[1]);\n",
    "#Добавляем вертикальные линии для среднего и 3ех стандартных отклонений влево и вправо от среднего\n",
    "axes[1].axvline(log_price.mean(), color='k', lw=2)\n",
    "axes[1].axvline(log_price.mean()+ 3 *log_price.std(),\n",
    "                color='k', ls='--', lw=2)\n",
    "axes[1].axvline(log_price.mean()- 3 *log_price.std(),\n",
    "                color='k', ls='--', lw=2);"
   ]
  },
  {
   "cell_type": "code",
   "execution_count": 31,
   "id": "d74ddb40-b52b-4285-a1d4-249ad4b6411d",
   "metadata": {},
   "outputs": [
    {
     "data": {
      "image/png": "[encoded data removed]",
      "text/plain": [
       "<Figure size 1080x288 with 2 Axes>"
      ]
     },
     "metadata": {},
     "output_type": "display_data"
    }
   ],
   "source": [
    "#Строим гистограмму\n",
    "fig, axes = plt.subplots(1, 2, figsize=(15, 4))\n",
    "sns.histplot(data=temp_data, x='mileage', ax=axes[0]);\n",
    "#Логарифмируем\n",
    "log_price = np.log(temp_data['mileage'])\n",
    "#Строим гистограмму в логарифмическом масштабе\n",
    "sns.histplot(data=log_price, ax=axes[1]);\n",
    "#Добавляем вертикальные линии для среднего и 3ех стандартных отклонений влево и вправо от среднего\n",
    "axes[1].axvline(log_price.mean(), color='k', lw=2)\n",
    "axes[1].axvline(log_price.mean()+ 3 *log_price.std(),\n",
    "                color='k', ls='--', lw=2)\n",
    "axes[1].axvline(log_price.mean()- 3 *log_price.std(),\n",
    "                color='k', ls='--', lw=2);"
   ]
  },
  {
   "cell_type": "code",
   "execution_count": 32,
   "id": "72fe1a1b-05ba-4d3f-a58e-0b61892d3ad3",
   "metadata": {},
   "outputs": [
    {
     "data": {
      "image/png": "[encoded data removed]",
      "text/plain": [
       "<Figure size 1080x288 with 2 Axes>"
      ]
     },
     "metadata": {},
     "output_type": "display_data"
    }
   ],
   "source": [
    "fig, axes = plt.subplots(1, 2, figsize=(15, 4))\n",
    "#Строим гистограмму\n",
    "sns.histplot(data=temp_data, x='mpg', ax=axes[0]);\n",
    "#Логарифмируем\n",
    "log_price = np.log(temp_data['mpg'])\n",
    "sns.histplot(data=log_price, ax=axes[1]);\n",
    "#Добавляем вертикальные линии для среднего и 3ех стандартных отклонений влево и вправо от среднего\n",
    "axes[1].axvline(log_price.mean(), color='k', lw=2)\n",
    "axes[1].axvline(log_price.mean()+ 3 *log_price.std(),\n",
    "                color='k', ls='--', lw=2)\n",
    "axes[1].axvline(log_price.mean()- 3 *log_price.std(),\n",
    "                color='k', ls='--', lw=2);"
   ]
  },
  {
   "cell_type": "markdown",
   "id": "cc926b32-a99b-4280-b42c-620206ffe007",
   "metadata": {},
   "source": [
    "### Подготовка данных"
   ]
  },
  {
   "cell_type": "markdown",
   "id": "05c5c34d-1705-4358-b18b-3da74ae671eb",
   "metadata": {},
   "source": [
    "Избавимся от выбросов с помощью метода z-отклонений на логарифмированных признаках. \n",
    "\n",
    "Напомним, метод z-отклонений мы изучали в модуле по очистке данных"
   ]
  },
  {
   "cell_type": "code",
   "execution_count": 33,
   "id": "960fdba6-4a93-456d-ac7a-98a156c55d46",
   "metadata": {},
   "outputs": [
    {
     "name": "stdout",
     "output_type": "stream",
     "text": [
      "Shape before cleaning outliers: (10668, 9)\n",
      "Shape after cleaning outliers: (10308, 9)\n"
     ]
    }
   ],
   "source": [
    "#Объявляем функцию, реализующую фильтрацию выбросов по методу z-отклонений\n",
    "def outliers_z_score(data, feature, log_scale=False):\n",
    "    if log_scale:\n",
    "        x = np.log(data[feature]+1)\n",
    "    else:\n",
    "        x = data[feature]\n",
    "    mu = x.mean()\n",
    "    sigma = x.std()\n",
    "    lower_bound = mu - 3 * sigma\n",
    "    upper_bound = mu + 3 * sigma\n",
    "    outliers = data[(x < lower_bound) | (x > upper_bound)]\n",
    "    cleaned = data[(x > lower_bound) & (x < upper_bound)]\n",
    "    return outliers, cleaned\n",
    "#Производим очистку \n",
    "outliers, temp_cleaned = outliers_z_score(temp_data, 'price', log_scale=True)\n",
    "outliers, temp_cleaned = outliers_z_score(temp_cleaned, 'mileage', log_scale=True)\n",
    "outliers, temp_cleaned = outliers_z_score(temp_cleaned, 'mpg', log_scale=True)\n",
    "print('Shape before cleaning outliers: {}'.format(temp_data.shape))\n",
    "print('Shape after cleaning outliers: {}'.format(temp_cleaned.shape))"
   ]
  },
  {
   "cell_type": "code",
   "execution_count": 34,
   "id": "8bb1c12c-d7ab-4fcd-bb8c-4905d0b47799",
   "metadata": {},
   "outputs": [
    {
     "data": {
      "text/html": [
       "<div>\n",
       "<style scoped>\n",
       "    .dataframe tbody tr th:only-of-type {\n",
       "        vertical-align: middle;\n",
       "    }\n",
       "\n",
       "    .dataframe tbody tr th {\n",
       "        vertical-align: top;\n",
       "    }\n",
       "\n",
       "    .dataframe thead th {\n",
       "        text-align: right;\n",
       "    }\n",
       "</style>\n",
       "<table border=\"1\" class=\"dataframe\">\n",
       "  <thead>\n",
       "    <tr style=\"text-align: right;\">\n",
       "      <th></th>\n",
       "      <th>year</th>\n",
       "      <th>price</th>\n",
       "      <th>mileage</th>\n",
       "      <th>tax</th>\n",
       "      <th>mpg</th>\n",
       "      <th>engineSize</th>\n",
       "      <th>model_ A1</th>\n",
       "      <th>model_ A3</th>\n",
       "      <th>model_ A4</th>\n",
       "      <th>model_ A5</th>\n",
       "      <th>...</th>\n",
       "      <th>model_ S5</th>\n",
       "      <th>model_ S8</th>\n",
       "      <th>model_ SQ5</th>\n",
       "      <th>model_ SQ7</th>\n",
       "      <th>model_ TT</th>\n",
       "      <th>transmission_Automatic</th>\n",
       "      <th>transmission_Manual</th>\n",
       "      <th>transmission_Semi-Auto</th>\n",
       "      <th>fuelType_Diesel</th>\n",
       "      <th>fuelType_Petrol</th>\n",
       "    </tr>\n",
       "  </thead>\n",
       "  <tbody>\n",
       "    <tr>\n",
       "      <th>0</th>\n",
       "      <td>2017</td>\n",
       "      <td>12500</td>\n",
       "      <td>15735</td>\n",
       "      <td>150</td>\n",
       "      <td>55.4</td>\n",
       "      <td>1.4</td>\n",
       "      <td>1</td>\n",
       "      <td>0</td>\n",
       "      <td>0</td>\n",
       "      <td>0</td>\n",
       "      <td>...</td>\n",
       "      <td>0</td>\n",
       "      <td>0</td>\n",
       "      <td>0</td>\n",
       "      <td>0</td>\n",
       "      <td>0</td>\n",
       "      <td>0</td>\n",
       "      <td>1</td>\n",
       "      <td>0</td>\n",
       "      <td>0</td>\n",
       "      <td>1</td>\n",
       "    </tr>\n",
       "    <tr>\n",
       "      <th>1</th>\n",
       "      <td>2016</td>\n",
       "      <td>16500</td>\n",
       "      <td>36203</td>\n",
       "      <td>20</td>\n",
       "      <td>64.2</td>\n",
       "      <td>2.0</td>\n",
       "      <td>0</td>\n",
       "      <td>0</td>\n",
       "      <td>0</td>\n",
       "      <td>0</td>\n",
       "      <td>...</td>\n",
       "      <td>0</td>\n",
       "      <td>0</td>\n",
       "      <td>0</td>\n",
       "      <td>0</td>\n",
       "      <td>0</td>\n",
       "      <td>1</td>\n",
       "      <td>0</td>\n",
       "      <td>0</td>\n",
       "      <td>1</td>\n",
       "      <td>0</td>\n",
       "    </tr>\n",
       "    <tr>\n",
       "      <th>2</th>\n",
       "      <td>2016</td>\n",
       "      <td>11000</td>\n",
       "      <td>29946</td>\n",
       "      <td>30</td>\n",
       "      <td>55.4</td>\n",
       "      <td>1.4</td>\n",
       "      <td>1</td>\n",
       "      <td>0</td>\n",
       "      <td>0</td>\n",
       "      <td>0</td>\n",
       "      <td>...</td>\n",
       "      <td>0</td>\n",
       "      <td>0</td>\n",
       "      <td>0</td>\n",
       "      <td>0</td>\n",
       "      <td>0</td>\n",
       "      <td>0</td>\n",
       "      <td>1</td>\n",
       "      <td>0</td>\n",
       "      <td>0</td>\n",
       "      <td>1</td>\n",
       "    </tr>\n",
       "    <tr>\n",
       "      <th>3</th>\n",
       "      <td>2017</td>\n",
       "      <td>16800</td>\n",
       "      <td>25952</td>\n",
       "      <td>145</td>\n",
       "      <td>67.3</td>\n",
       "      <td>2.0</td>\n",
       "      <td>0</td>\n",
       "      <td>0</td>\n",
       "      <td>1</td>\n",
       "      <td>0</td>\n",
       "      <td>...</td>\n",
       "      <td>0</td>\n",
       "      <td>0</td>\n",
       "      <td>0</td>\n",
       "      <td>0</td>\n",
       "      <td>0</td>\n",
       "      <td>1</td>\n",
       "      <td>0</td>\n",
       "      <td>0</td>\n",
       "      <td>1</td>\n",
       "      <td>0</td>\n",
       "    </tr>\n",
       "    <tr>\n",
       "      <th>4</th>\n",
       "      <td>2019</td>\n",
       "      <td>17300</td>\n",
       "      <td>1998</td>\n",
       "      <td>145</td>\n",
       "      <td>49.6</td>\n",
       "      <td>1.0</td>\n",
       "      <td>0</td>\n",
       "      <td>1</td>\n",
       "      <td>0</td>\n",
       "      <td>0</td>\n",
       "      <td>...</td>\n",
       "      <td>0</td>\n",
       "      <td>0</td>\n",
       "      <td>0</td>\n",
       "      <td>0</td>\n",
       "      <td>0</td>\n",
       "      <td>0</td>\n",
       "      <td>1</td>\n",
       "      <td>0</td>\n",
       "      <td>0</td>\n",
       "      <td>1</td>\n",
       "    </tr>\n",
       "  </tbody>\n",
       "</table>\n",
       "<p>5 rows × 36 columns</p>\n",
       "</div>"
      ],
      "text/plain": [
       "   year  price  mileage  tax   mpg  engineSize  model_ A1  model_ A3  \\\n",
       "0  2017  12500    15735  150  55.4         1.4          1          0   \n",
       "1  2016  16500    36203   20  64.2         2.0          0          0   \n",
       "2  2016  11000    29946   30  55.4         1.4          1          0   \n",
       "3  2017  16800    25952  145  67.3         2.0          0          0   \n",
       "4  2019  17300     1998  145  49.6         1.0          0          1   \n",
       "\n",
       "   model_ A4  model_ A5  ...  model_ S5  model_ S8  model_ SQ5  model_ SQ7  \\\n",
       "0          0          0  ...          0          0           0           0   \n",
       "1          0          0  ...          0          0           0           0   \n",
       "2          0          0  ...          0          0           0           0   \n",
       "3          1          0  ...          0          0           0           0   \n",
       "4          0          0  ...          0          0           0           0   \n",
       "\n",
       "   model_ TT  transmission_Automatic  transmission_Manual  \\\n",
       "0          0                       0                    1   \n",
       "1          0                       1                    0   \n",
       "2          0                       0                    1   \n",
       "3          0                       1                    0   \n",
       "4          0                       0                    1   \n",
       "\n",
       "   transmission_Semi-Auto  fuelType_Diesel  fuelType_Petrol  \n",
       "0                       0                0                1  \n",
       "1                       0                1                0  \n",
       "2                       0                0                1  \n",
       "3                       0                1                0  \n",
       "4                       0                0                1  \n",
       "\n",
       "[5 rows x 36 columns]"
      ]
     },
     "execution_count": 34,
     "metadata": {},
     "output_type": "execute_result"
    }
   ],
   "source": [
    "#Производим кодирование категориальных признаков\n",
    "dummies_data = pd.get_dummies(temp_cleaned)\n",
    "dummies_data.head()"
   ]
  },
  {
   "cell_type": "code",
   "execution_count": 35,
   "id": "eb33e778-4e62-44e2-859d-b44088b73718",
   "metadata": {},
   "outputs": [
    {
     "name": "stdout",
     "output_type": "stream",
     "text": [
      "Train shape: (8246, 35)\n",
      "Test shape: (2062, 35)\n"
     ]
    }
   ],
   "source": [
    "#X - матрица наблюдений, y - столбец правильных ответов\n",
    "X = dummies_data.drop('price', axis=1)\n",
    "y = dummies_data['price']\n",
    "#Разделяем выборку на тренировочную и тестовую в соотношении 80/20\n",
    "X_train, X_test, y_train, y_test = train_test_split(X, y, test_size=0.2, random_state=40)\n",
    "print('Train shape: {}'.format(X_train.shape))\n",
    "print('Test shape: {}'.format(X_test.shape))"
   ]
  },
  {
   "cell_type": "markdown",
   "id": "52416bc4-3140-4076-9a5c-48b394804e4c",
   "metadata": {},
   "source": [
    "### Моделирование"
   ]
  },
  {
   "cell_type": "markdown",
   "id": "b8bdcc75-d6cd-48b1-a725-b9c797952bde",
   "metadata": {},
   "source": [
    "Построим на предобработанных данных модель линейной регрессии"
   ]
  },
  {
   "cell_type": "code",
   "execution_count": 36,
   "id": "703c2e76-0499-4b56-8b50-66d28e5ea9dd",
   "metadata": {},
   "outputs": [
    {
     "name": "stdout",
     "output_type": "stream",
     "text": [
      "Train R^2: 0.927\n",
      "Train MAE: 1959.201\n",
      "Train MAPE: 8.712\n",
      "\n",
      "\n",
      "Test R^2: 0.917\n",
      "Test MAE: 2060.712\n",
      "Train MAPE: 9.061\n"
     ]
    }
   ],
   "source": [
    "#создаем логарифмированный целевой признак цены\n",
    "y_train_log = np.log(y_train)\n",
    "\n",
    "#Инициализируем объект класса линейная регрессия\n",
    "lr = linear_model.LinearRegression()\n",
    "#Обучаем модель предсказывать логарифм целевого признака\n",
    "lr.fit(X_train, y_train_log)\n",
    "#Делаем предсказание для каждой из выборок\n",
    "#Если обучили на логарифме, то от результата необходимо взять обратную функцию - экспоненту\n",
    "y_train_pred = np.exp(lr.predict(X_train))\n",
    "y_test_pred = np.exp(lr.predict(X_test))\n",
    "#Выводим результирующие метрики\n",
    "print_metrics(y_train, y_train_pred, y_test, y_test_pred)"
   ]
  },
  {
   "cell_type": "markdown",
   "id": "de939f3b-2d8c-4e27-843b-c2cb3d2b68d8",
   "metadata": {},
   "source": [
    "Попробуем добавить в данные полиномиальные признаки и построить модель полиномиальной регрессии. Предварительно нормализуем данные:"
   ]
  },
  {
   "cell_type": "code",
   "execution_count": 37,
   "id": "d1e353dd-080e-4467-8e75-dd08f98680b2",
   "metadata": {},
   "outputs": [
    {
     "name": "stdout",
     "output_type": "stream",
     "text": [
      "Train shape: (8246, 665)\n",
      "Test shape: (2062, 665)\n"
     ]
    }
   ],
   "source": [
    "#Создаем объект для min-max нормализации\n",
    "scaler = preprocessing.MinMaxScaler()\n",
    "#Вычисляем параметры для нормализации - min и max для каждого столбца\n",
    "scaler.fit(X_train)\n",
    "#Производим преобразование для каждой из выборок\n",
    "X_train_scaled = scaler.transform(X_train)\n",
    "X_test_scaled = scaler.transform(X_test)\n",
    "\n",
    "#Создаем объект для генерации полиномиальных признаков степени 2\n",
    "poly = preprocessing.PolynomialFeatures(degree=2, include_bias=False)\n",
    "#Вычисляем параметры генерации - результирующее количество признак\n",
    "poly.fit(X_train_scaled)\n",
    "#Производим преобразование для каждой из выборок\n",
    "X_train_scaled_poly = poly.transform(X_train_scaled)\n",
    "X_test_scaled_poly = poly.transform(X_test_scaled)\n",
    "\n",
    "print('Train shape: {}'.format(X_train_scaled_poly.shape))\n",
    "print('Test shape: {}'.format(X_test_scaled_poly.shape))"
   ]
  },
  {
   "cell_type": "markdown",
   "id": "58d83f6a-6b7d-42cb-bb9b-ad55968ec4a4",
   "metadata": {},
   "source": [
    "Попробуем обучить модель линейной регрессии на сгенерированных данных. Спойлер: код выполнится с ошибкой. Причина - слишком высокие коэффициенты модели, из-за чего модель выдает огромные значения цены, которая затем еще и возводится в экспоненту, в результате чего возникает ошибка числа, не помещающегося в тип данных float64. "
   ]
  },
  {
   "cell_type": "code",
   "execution_count": 38,
   "id": "684a1519-489f-43e2-9c9d-241a74915464",
   "metadata": {},
   "outputs": [],
   "source": [
    "# lr_poly = linear_model.LinearRegression()\n",
    "# lr_poly.fit(X_train_scaled_poly, y_train_log)\n",
    "# y_train_pred = np.exp(lr_poly.predict(X_train_scaled_poly))\n",
    "# y_test_pred = np.exp(lr_poly.predict(X_test_scaled_poly))\n",
    "\n",
    "# print_metrics(y_train, y_train_pred, y_test, y_test_pred)"
   ]
  },
  {
   "cell_type": "markdown",
   "id": "84d8180d-b04a-43c5-b35a-5d568c1a13ac",
   "metadata": {},
   "source": [
    "Решение проблемы огромных значений коэффициентов - использование регуляризации"
   ]
  },
  {
   "cell_type": "markdown",
   "id": "da2da575-dc1a-408f-a20d-b9a080d0f494",
   "metadata": {},
   "source": [
    "Идея регуляризации - добавление в модель штрафа за высокие значения коэффициентов, которые являются прямым признаком переобучения. "
   ]
  },
  {
   "cell_type": "markdown",
   "id": "091e0f25-cb23-468f-bb9c-600b981d683d",
   "metadata": {},
   "source": [
    "**Линейная регрессия с L2-регуляризацией**"
   ]
  },
  {
   "cell_type": "markdown",
   "id": "fdd62058-6bfa-4316-9986-31812feeeabd",
   "metadata": {},
   "source": [
    "L2-регуляризация добавляет к функции ошибки дополнительное слагаемое, которое вносит смещение в обучение модели. Слагаемое - сумма квадратов коэффициентов модели.\n",
    "\n",
    "$$L(\\omega) = MSE + \\alpha \\sum_{j=1}^{m}{\\omega_j^2}$$"
   ]
  },
  {
   "cell_type": "markdown",
   "id": "80da6237-18bb-49ac-84a8-809259d6e86a",
   "metadata": {},
   "source": [
    "$\\alpha$ - коэффициент регуляризации, чем он выше, тем большее смещение вносится в модель (тем сильнее штраф за переобучение)"
   ]
  },
  {
   "cell_type": "markdown",
   "id": "69e43a76-033f-4e18-b044-5add676c5599",
   "metadata": {},
   "source": [
    "В библиотеке sklearn линейная регрессия с L2-регуляризацией (гребневая регрессия) реализована в классе Ridge модуля linear_model. \n",
    "\n",
    "Методы:\n",
    "* fit() - подгонка параметров по методу координатного спуска - безпроизводный аналов градиентного спуска (обучение модели)\n",
    "* predict() - предсказание (подстановка наблюдения $x_i$ в модель и получение ответа для каждого наблюдения)\n",
    "\n",
    "Атрибуты:\n",
    "* coef_ - найденные коэффициенты $\\omega_1, \\omega_2,$ ...,$ \\omega_m$ (в виде вектора)\n",
    "* intercept_ - свободный член $\\omega_0$"
   ]
  },
  {
   "cell_type": "code",
   "execution_count": 39,
   "id": "7f975a29-cbeb-43cd-899e-af65a2078378",
   "metadata": {},
   "outputs": [
    {
     "name": "stdout",
     "output_type": "stream",
     "text": [
      "Train R^2: 0.946\n",
      "Train MAE: 1714.759\n",
      "Train MAPE: 7.798\n",
      "\n",
      "\n",
      "Test R^2: 0.934\n",
      "Test MAE: 1826.895\n",
      "Train MAPE: 8.184\n"
     ]
    }
   ],
   "source": [
    "#Инициализируем объект класса линейная регрессия с L2-регуляризацией \n",
    "ridge_lr_poly = linear_model.Ridge()\n",
    "#Обучаем модель предсказывать логарифм целевого признака\n",
    "ridge_lr_poly.fit(X_train_scaled_poly, y_train_log)\n",
    "#Делаем предсказание для каждой из выборок\n",
    "#Если обучили на логарифме, то от результата необходимо взять обратную функцию - экспоненту\n",
    "y_train_pred = np.exp(ridge_lr_poly.predict(X_train_scaled_poly))\n",
    "y_test_pred = np.exp(ridge_lr_poly.predict(X_test_scaled_poly))\n",
    "#Выводим результирующие метрики\n",
    "print_metrics(y_train, y_train_pred, y_test, y_test_pred)"
   ]
  },
  {
   "cell_type": "markdown",
   "id": "2914f359-13b1-49b8-b8f7-793618f93a5a",
   "metadata": {},
   "source": [
    "Качество модели можно улучшить, если подробовать подобрать оптимальное значение коэффициента регуляризации $\\alpha$ (по умолчанию в реализации sklearn $\\alpha = 1$). Нас интересует такое значение коэффициента, при котором наблюдается наилучшее значение метрики на тестовой выборке (наименьшее значение MAE), если таких значений $\\alpha$ несколько, то берем то, при котором разница в показателях на тренировочной и тестовой выборке наименьшая.\n"
   ]
  },
  {
   "cell_type": "markdown",
   "id": "65fc821a-709a-4df0-bd0d-629aa04f5275",
   "metadata": {},
   "source": [
    "**Подбор параметра регуляризации $\\alpha$**"
   ]
  },
  {
   "cell_type": "code",
   "execution_count": 40,
   "id": "bcc27474-dd41-4378-a0c5-992c4c63db56",
   "metadata": {},
   "outputs": [
    {
     "data": {
      "image/png": "[encoded data removed]",
      "text/plain": [
       "<Figure size 864x288 with 1 Axes>"
      ]
     },
     "metadata": {},
     "output_type": "display_data"
    }
   ],
   "source": [
    "#Создаем список из 20 возможных значений от 0.001 до 10\n",
    "alpha_list = np.linspace(0.01, 10, 20)\n",
    "#Создаем пустые списки, в которые будем добавлять результаты \n",
    "train_scores = []\n",
    "test_scores = []\n",
    "for alpha in alpha_list:\n",
    "    #Создаем объект класса линейная регрессия с L2-регуляризацией\n",
    "    ridge_lr_poly = linear_model.Ridge(alpha=alpha, max_iter=10000)\n",
    "    #Обучаем модель предсказывать логарифм целевого признака\n",
    "    ridge_lr_poly.fit(X_train_scaled_poly, y_train_log)\n",
    "    #Делаем предсказание для каждой из выборок\n",
    "    #Если обучили на логарифме, то от результата необходимо взять обратную функцию - экспоненту\n",
    "    y_train_predict_poly = np.exp(ridge_lr_poly.predict(X_train_scaled_poly))\n",
    "    y_test_predict_poly = np.exp(ridge_lr_poly.predict(X_test_scaled_poly))\n",
    "    #Рассчитываем метрику для двух выборок и добавляем их в списки\n",
    "    train_scores.append(metrics.mean_absolute_error(y_train, y_train_predict_poly))\n",
    "    test_scores.append(metrics.mean_absolute_error(y_test, y_test_predict_poly))\n",
    "\n",
    "#Визуализируем изменение R^2 в зависимости от alpha\n",
    "fig, ax = plt.subplots(figsize=(12, 4)) #фигура + координатная плоскость\n",
    "ax.plot(alpha_list, train_scores, label='Train') #линейный график для тренировочной выборки\n",
    "ax.plot(alpha_list, test_scores, label='Test') #линейный график для тестовой выборки\n",
    "ax.set_xlabel('Alpha') #название оси абсцисс\n",
    "ax.set_ylabel('MAE') #название оси ординат\n",
    "ax.set_xticks(alpha_list) #метки по оси абцисс\n",
    "ax.xaxis.set_tick_params(rotation=45) #поворот меток на оси абсцисс\n",
    "ax.legend(); #отображение легенды"
   ]
  },
  {
   "cell_type": "markdown",
   "id": "30c03df2-5dff-4a91-9313-b8fd116cc189",
   "metadata": {},
   "source": [
    "Наилучшее значение метрики соотвествует alpha=0.01 (кстати, можно попробовать перебрать значения alpha < 0.01).\n",
    "\n",
    "Обучим модель линейной регрессии с L2-регуляризацией с коэффициентов регуляризации alpha=0.01"
   ]
  },
  {
   "cell_type": "markdown",
   "id": "11637bf1-2db8-428b-b375-52da67466367",
   "metadata": {},
   "source": [
    "**Финальная модель**"
   ]
  },
  {
   "cell_type": "code",
   "execution_count": 41,
   "id": "a72ed673-c738-4396-9dda-e68019549e78",
   "metadata": {},
   "outputs": [
    {
     "name": "stdout",
     "output_type": "stream",
     "text": [
      "Train R^2: 0.951\n",
      "Train MAE: 1656.825\n",
      "Train MAPE: 7.610\n",
      "\n",
      "\n",
      "Test R^2: 0.937\n",
      "Test MAE: 1772.183\n",
      "Train MAPE: 7.994\n"
     ]
    }
   ],
   "source": [
    "#Создаем объект класса линейная регрессия с L2-регуляризацией\n",
    "#Выставляем параметр alpha в подобранное выше значение\n",
    "ridge_lr = linear_model.Ridge(alpha=0.01)\n",
    "#Обучаем модель предсказывать логарифм целевого признака\n",
    "ridge_lr.fit(X_train_scaled_poly, y_train_log)\n",
    "#Делаем предсказание для каждой из выборок\n",
    "#Если обучили на логарифме, то от результата необходимо взять обратную функцию - экспоненту\n",
    "y_train_pred = np.exp(ridge_lr.predict(X_train_scaled_poly))\n",
    "y_test_pred = np.exp(ridge_lr.predict(X_test_scaled_poly))\n",
    "\n",
    "print_metrics(y_train, y_train_pred, y_test, y_test_pred)"
   ]
  },
  {
   "cell_type": "markdown",
   "id": "1ec34cf8-dd97-46a3-84a2-576ad8f06591",
   "metadata": {},
   "source": [
    "Посмотрим на разброс ошибок нашей модели с помощью boxplot-диграммы. Это поможет нам понять, как много автомобилей в каждой из выборок, для которых мы допускаем высокую ошибку в предсказании цены."
   ]
  },
  {
   "cell_type": "code",
   "execution_count": 42,
   "id": "f18bc576-01df-4816-a280-b0bb785c1252",
   "metadata": {},
   "outputs": [
    {
     "data": {
      "image/png": "[encoded data removed]",
      "text/plain": [
       "<Figure size 864x432 with 1 Axes>"
      ]
     },
     "metadata": {},
     "output_type": "display_data"
    }
   ],
   "source": [
    "#Визуализируем ошибки\n",
    "fig, ax = plt.subplots(figsize=(12, 6)) #фигура+координатная плоскость\n",
    "#Ошибки модели на тренировочной выборке \n",
    "y_train_errors = y_train - y_train_pred\n",
    "#Ошибки модели на тестовой выборке\n",
    "y_test_errors = y_test - y_test_pred\n",
    "#Для удобства визуализации составим DataFrame из ошибок\n",
    "predict_df = pd.DataFrame(\n",
    "    {'Train errors': y_train_errors, \n",
    "     'Test errors': y_test_errors\n",
    "    }\n",
    ")\n",
    "#Строим boxplot для ошибок\n",
    "sns.boxplot(data=predict_df, ax=ax)\n",
    "ax.set_xlabel('Model errors') #название оси абсцисс\n",
    "ax.set_ylabel('Model'); #название оси ординат"
   ]
  },
  {
   "cell_type": "markdown",
   "id": "0ebfc5db-18d0-406e-be20-d681e67b1e6a",
   "metadata": {},
   "source": [
    "Возможные дальнейшие шаги по улучшению:\n",
    "* feature engineering - попыться сгенерировать новые признаки в данных/присоединить внешние источники, например данные о рейтинге каждой из моделей audi на рынке\n",
    "* попытаться привести все числовые признаки к нормальному распределению (например, с помощью логарифмирования)\n",
    "* объединить категориальный признак model в ценовые сегменты автомобилей, чтобы уменьшить количество категорий\n",
    "* найти наблюдения, для которых наблюдается высокая ошибка между предсказанием и действительностью и понять, что с ними \"не так\""
   ]
  },
  {
   "cell_type": "code",
   "execution_count": null,
   "id": "f7dd5dd0-a840-4899-abd7-4a66e09c841b",
   "metadata": {},
   "outputs": [],
   "source": []
  }
 ],
 "metadata": {
  "kernelspec": {
   "display_name": "Python 3 (ipykernel)",
   "language": "python",
   "name": "python3"
  },
  "language_info": {
   "codemirror_mode": {
    "name": "ipython",
    "version": 3
   },
   "file_extension": ".py",
   "mimetype": "text/x-python",
   "name": "python",
   "nbconvert_exporter": "python",
   "pygments_lexer": "ipython3",
   "version": "3.8.8"
  }
 },
 "nbformat": 4,
 "nbformat_minor": 5
}
